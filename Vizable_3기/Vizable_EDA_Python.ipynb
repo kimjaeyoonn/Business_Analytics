{
 "cells": [
  {
   "cell_type": "code",
   "execution_count": 89,
   "id": "12807dd8",
   "metadata": {},
   "outputs": [],
   "source": [
    "import warnings\n",
    "warnings.filterwarnings('ignore')\n",
    "import pandas as pd\n",
    "from matplotlib import pyplot as plt\n",
    "from matplotlib import rc, font_manager \n",
    "import seaborn as sns\n",
    "%matplotlib inline\n",
    "plt.rc(\"font\", family=\"Malgun Gothic\")  \n",
    "plt.rcParams['axes.unicode_minus'] = False"
   ]
  },
  {
   "cell_type": "code",
   "execution_count": 90,
   "id": "ae14dd91",
   "metadata": {},
   "outputs": [],
   "source": [
    "df = pd.read_excel('슈퍼스토어.xls')\n",
    "df_return = pd.read_excel('반품 정리.xls')\n",
    "\n",
    "\n",
    "# df[\"주문 월\"] = df['주문 날짜'].dt.month\n",
    "\n",
    "temp = df_return['주문 ID'].unique()\n",
    "df['반품'] = 0\n",
    "for i in range(len(df)):\n",
    "    if df['주문 ID'][i] in temp:\n",
    "        df['반품'].iat[i] = 1"
   ]
  },
  {
   "cell_type": "code",
   "execution_count": 91,
   "id": "01d0ef54",
   "metadata": {},
   "outputs": [
    {
     "data": {
      "text/plain": [
       "Index(['행 ID', '주문 ID', '주문 날짜', '배송 날짜', '배송 형태', '고객 ID', '고객 이름', '세그먼트',\n",
       "       '도시', '시/도', '국가/지역', '지역', '제품 ID', '범주', '하위 범주', '제품 이름', '매출', '수량',\n",
       "       '할인율', '수익', '반품'],\n",
       "      dtype='object')"
      ]
     },
     "execution_count": 91,
     "metadata": {},
     "output_type": "execute_result"
    }
   ],
   "source": [
    "df.columns"
   ]
  },
  {
   "cell_type": "code",
   "execution_count": 92,
   "id": "19d35491",
   "metadata": {},
   "outputs": [],
   "source": [
    "#제품 : 범주 하위범주 반품 수익 할인율 수량 배송 형태 세그먼트 \n",
    "# [제품단가 : 매출 / 수량] -> 제품단가\n",
    "\n",
    "# 많이 사면 할인 ? "
   ]
  },
  {
   "cell_type": "code",
   "execution_count": 93,
   "id": "7da3b94b",
   "metadata": {},
   "outputs": [
    {
     "data": {
      "text/html": [
       "<div>\n",
       "<style scoped>\n",
       "    .dataframe tbody tr th:only-of-type {\n",
       "        vertical-align: middle;\n",
       "    }\n",
       "\n",
       "    .dataframe tbody tr th {\n",
       "        vertical-align: top;\n",
       "    }\n",
       "\n",
       "    .dataframe thead th {\n",
       "        text-align: right;\n",
       "    }\n",
       "</style>\n",
       "<table border=\"1\" class=\"dataframe\">\n",
       "  <thead>\n",
       "    <tr style=\"text-align: right;\">\n",
       "      <th></th>\n",
       "      <th>행 ID</th>\n",
       "      <th>주문 ID</th>\n",
       "      <th>주문 날짜</th>\n",
       "      <th>배송 날짜</th>\n",
       "      <th>배송 형태</th>\n",
       "      <th>고객 ID</th>\n",
       "      <th>고객 이름</th>\n",
       "      <th>세그먼트</th>\n",
       "      <th>도시</th>\n",
       "      <th>시/도</th>\n",
       "      <th>...</th>\n",
       "      <th>지역</th>\n",
       "      <th>제품 ID</th>\n",
       "      <th>범주</th>\n",
       "      <th>하위 범주</th>\n",
       "      <th>제품 이름</th>\n",
       "      <th>매출</th>\n",
       "      <th>수량</th>\n",
       "      <th>할인율</th>\n",
       "      <th>수익</th>\n",
       "      <th>반품</th>\n",
       "    </tr>\n",
       "  </thead>\n",
       "  <tbody>\n",
       "    <tr>\n",
       "      <th>0</th>\n",
       "      <td>1</td>\n",
       "      <td>IN-2020-27828</td>\n",
       "      <td>2020-08-27</td>\n",
       "      <td>2020-08-31</td>\n",
       "      <td>표준 등급</td>\n",
       "      <td>VT-21700</td>\n",
       "      <td>Valerie Takahito</td>\n",
       "      <td>홈 오피스</td>\n",
       "      <td>Quanzhou</td>\n",
       "      <td>Fujian</td>\n",
       "      <td>...</td>\n",
       "      <td>북아시아</td>\n",
       "      <td>OFF-PA-10000026</td>\n",
       "      <td>사무용품</td>\n",
       "      <td>용지</td>\n",
       "      <td>Eaton Cards &amp; Envelopes, 8.5 x 11</td>\n",
       "      <td>197.28</td>\n",
       "      <td>4</td>\n",
       "      <td>0.0</td>\n",
       "      <td>35.40</td>\n",
       "      <td>1</td>\n",
       "    </tr>\n",
       "    <tr>\n",
       "      <th>1</th>\n",
       "      <td>2</td>\n",
       "      <td>IN-2020-27828</td>\n",
       "      <td>2020-08-27</td>\n",
       "      <td>2020-08-31</td>\n",
       "      <td>표준 등급</td>\n",
       "      <td>VT-21700</td>\n",
       "      <td>Valerie Takahito</td>\n",
       "      <td>홈 오피스</td>\n",
       "      <td>Quanzhou</td>\n",
       "      <td>Fujian</td>\n",
       "      <td>...</td>\n",
       "      <td>북아시아</td>\n",
       "      <td>FUR-FU-10000944</td>\n",
       "      <td>가구</td>\n",
       "      <td>사무용 집기</td>\n",
       "      <td>Tenex Door Stop, Black</td>\n",
       "      <td>307.23</td>\n",
       "      <td>7</td>\n",
       "      <td>0.0</td>\n",
       "      <td>21.42</td>\n",
       "      <td>1</td>\n",
       "    </tr>\n",
       "    <tr>\n",
       "      <th>2</th>\n",
       "      <td>3</td>\n",
       "      <td>IN-2020-27828</td>\n",
       "      <td>2020-08-27</td>\n",
       "      <td>2020-08-31</td>\n",
       "      <td>표준 등급</td>\n",
       "      <td>VT-21700</td>\n",
       "      <td>Valerie Takahito</td>\n",
       "      <td>홈 오피스</td>\n",
       "      <td>Quanzhou</td>\n",
       "      <td>Fujian</td>\n",
       "      <td>...</td>\n",
       "      <td>북아시아</td>\n",
       "      <td>TEC-CO-10002526</td>\n",
       "      <td>기술</td>\n",
       "      <td>복사기</td>\n",
       "      <td>Sharp Wireless Fax, Digital</td>\n",
       "      <td>1422.24</td>\n",
       "      <td>4</td>\n",
       "      <td>0.0</td>\n",
       "      <td>526.20</td>\n",
       "      <td>1</td>\n",
       "    </tr>\n",
       "  </tbody>\n",
       "</table>\n",
       "<p>3 rows × 21 columns</p>\n",
       "</div>"
      ],
      "text/plain": [
       "   행 ID          주문 ID      주문 날짜      배송 날짜  배송 형태     고객 ID  \\\n",
       "0     1  IN-2020-27828 2020-08-27 2020-08-31  표준 등급  VT-21700   \n",
       "1     2  IN-2020-27828 2020-08-27 2020-08-31  표준 등급  VT-21700   \n",
       "2     3  IN-2020-27828 2020-08-27 2020-08-31  표준 등급  VT-21700   \n",
       "\n",
       "              고객 이름   세그먼트        도시     시/도  ...    지역            제품 ID  \\\n",
       "0  Valerie Takahito  홈 오피스  Quanzhou  Fujian  ...  북아시아  OFF-PA-10000026   \n",
       "1  Valerie Takahito  홈 오피스  Quanzhou  Fujian  ...  북아시아  FUR-FU-10000944   \n",
       "2  Valerie Takahito  홈 오피스  Quanzhou  Fujian  ...  북아시아  TEC-CO-10002526   \n",
       "\n",
       "     범주   하위 범주                              제품 이름       매출  수량  할인율      수익  \\\n",
       "0  사무용품      용지  Eaton Cards & Envelopes, 8.5 x 11   197.28   4  0.0   35.40   \n",
       "1    가구  사무용 집기             Tenex Door Stop, Black   307.23   7  0.0   21.42   \n",
       "2    기술     복사기        Sharp Wireless Fax, Digital  1422.24   4  0.0  526.20   \n",
       "\n",
       "   반품  \n",
       "0   1  \n",
       "1   1  \n",
       "2   1  \n",
       "\n",
       "[3 rows x 21 columns]"
      ]
     },
     "execution_count": 93,
     "metadata": {},
     "output_type": "execute_result"
    }
   ],
   "source": [
    "df.head(3)"
   ]
  },
  {
   "cell_type": "code",
   "execution_count": 94,
   "id": "effec3f2",
   "metadata": {},
   "outputs": [],
   "source": [
    "df3 = pd.read_excel('인력.xls')"
   ]
  },
  {
   "cell_type": "code",
   "execution_count": 95,
   "id": "993c1dc2",
   "metadata": {},
   "outputs": [
    {
     "data": {
      "text/html": [
       "<div>\n",
       "<style scoped>\n",
       "    .dataframe tbody tr th:only-of-type {\n",
       "        vertical-align: middle;\n",
       "    }\n",
       "\n",
       "    .dataframe tbody tr th {\n",
       "        vertical-align: top;\n",
       "    }\n",
       "\n",
       "    .dataframe thead th {\n",
       "        text-align: right;\n",
       "    }\n",
       "</style>\n",
       "<table border=\"1\" class=\"dataframe\">\n",
       "  <thead>\n",
       "    <tr style=\"text-align: right;\">\n",
       "      <th></th>\n",
       "      <th>사람</th>\n",
       "      <th>지역</th>\n",
       "    </tr>\n",
       "  </thead>\n",
       "  <tbody>\n",
       "    <tr>\n",
       "      <th>0</th>\n",
       "      <td>Sanjit Engle</td>\n",
       "      <td>동남아시아</td>\n",
       "    </tr>\n",
       "    <tr>\n",
       "      <th>1</th>\n",
       "      <td>Maribeth Dona</td>\n",
       "      <td>중앙아시아</td>\n",
       "    </tr>\n",
       "    <tr>\n",
       "      <th>2</th>\n",
       "      <td>Alex Avila</td>\n",
       "      <td>북아시아</td>\n",
       "    </tr>\n",
       "    <tr>\n",
       "      <th>3</th>\n",
       "      <td>Nora Pelletier</td>\n",
       "      <td>오세아니아</td>\n",
       "    </tr>\n",
       "  </tbody>\n",
       "</table>\n",
       "</div>"
      ],
      "text/plain": [
       "               사람     지역\n",
       "0    Sanjit Engle  동남아시아\n",
       "1   Maribeth Dona  중앙아시아\n",
       "2      Alex Avila   북아시아\n",
       "3  Nora Pelletier  오세아니아"
      ]
     },
     "execution_count": 95,
     "metadata": {},
     "output_type": "execute_result"
    }
   ],
   "source": [
    "df3"
   ]
  },
  {
   "cell_type": "markdown",
   "id": "4298e484",
   "metadata": {},
   "source": [
    "# 문제 정의를 위한 탐색적 데이터 분석"
   ]
  },
  {
   "cell_type": "code",
   "execution_count": 96,
   "id": "ba0869d6",
   "metadata": {},
   "outputs": [],
   "source": [
    "Alex_Avila = df.query(\"지역 == '북아시아'\")\n",
    "Maribeth_Dona = df.query(\"지역 == '중앙아시아'\")\n",
    "Nora_Pelletier = df.query(\"지역 == '오세아니아'\")\n",
    "Sanjit_Engle = df.query(\"지역 == '동남아시아'\")"
   ]
  },
  {
   "cell_type": "code",
   "execution_count": 97,
   "id": "6680894d",
   "metadata": {},
   "outputs": [
    {
     "data": {
      "image/png": "[encoded data removed]",
      "text/plain": [
       "<Figure size 436x360 with 1 Axes>"
      ]
     },
     "metadata": {
      "needs_background": "light"
     },
     "output_type": "display_data"
    },
    {
     "data": {
      "image/png": "[encoded data removed]",
      "text/plain": [
       "<Figure size 436x360 with 1 Axes>"
      ]
     },
     "metadata": {
      "needs_background": "light"
     },
     "output_type": "display_data"
    },
    {
     "data": {
      "image/png": "[encoded data removed]",
      "text/plain": [
       "<Figure size 436x360 with 1 Axes>"
      ]
     },
     "metadata": {
      "needs_background": "light"
     },
     "output_type": "display_data"
    },
    {
     "data": {
      "image/png": "[encoded data removed]",
      "text/plain": [
       "<Figure size 436x360 with 1 Axes>"
      ]
     },
     "metadata": {
      "needs_background": "light"
     },
     "output_type": "display_data"
    }
   ],
   "source": [
    "sns.lmplot(data=Alex_Avila, x=\"할인율\", y=\"수익\", hue=\"범주\", fit_reg=True).set(title='Alex_Avila')\n",
    "plt.show()\n",
    "\n",
    "sns.lmplot(data=Maribeth_Dona, x=\"할인율\", y=\"수익\", hue=\"범주\", fit_reg=True).set(title='Maribeth_Dona')\n",
    "plt.show()\n",
    "\n",
    "sns.lmplot(data=Nora_Pelletier, x=\"할인율\", y=\"수익\", hue=\"범주\", fit_reg=True).set(title='Nora_Pelletier')\n",
    "plt.show()\n",
    "\n",
    "sns.lmplot(data=Sanjit_Engle, x=\"할인율\", y=\"수익\", hue=\"범주\", fit_reg=True).set(title='Sanjit_Engle')\n",
    "plt.show()"
   ]
  },
  {
   "cell_type": "code",
   "execution_count": 98,
   "id": "725a33d1",
   "metadata": {},
   "outputs": [],
   "source": [
    "Alex_Avila = df.query(\"지역 == '북아시아'\")\n",
    "Maribeth_Dona = df.query(\"지역 == '중앙아시아'\")\n",
    "Nora_Pelletier = df.query(\"지역 == '오세아니아'\")\n",
    "Sanjit_Engle = df.query(\"지역 == '동남아시아'\")"
   ]
  },
  {
   "cell_type": "code",
   "execution_count": 99,
   "id": "b7485ccd",
   "metadata": {},
   "outputs": [],
   "source": [
    "Alex_Avila = df.query(\"지역 == '북아시아'\")\n",
    "Maribeth_Dona = df.query(\"지역 == '중앙아시아'\")\n",
    "Nora_Pelletier = df.query(\"지역 == '오세아니아'\")\n",
    "Sanjit_Engle = df.query(\"지역 == '동남아시아'\")"
   ]
  },
  {
   "cell_type": "markdown",
   "id": "958b38bb",
   "metadata": {},
   "source": [
    "# 수익"
   ]
  },
  {
   "cell_type": "code",
   "execution_count": 100,
   "id": "42572feb",
   "metadata": {
    "scrolled": false
   },
   "outputs": [
    {
     "data": {
      "text/html": [
       "<div>\n",
       "<style scoped>\n",
       "    .dataframe tbody tr th:only-of-type {\n",
       "        vertical-align: middle;\n",
       "    }\n",
       "\n",
       "    .dataframe tbody tr th {\n",
       "        vertical-align: top;\n",
       "    }\n",
       "\n",
       "    .dataframe thead th {\n",
       "        text-align: right;\n",
       "    }\n",
       "</style>\n",
       "<table border=\"1\" class=\"dataframe\">\n",
       "  <thead>\n",
       "    <tr style=\"text-align: right;\">\n",
       "      <th></th>\n",
       "      <th>매출</th>\n",
       "    </tr>\n",
       "    <tr>\n",
       "      <th>지역</th>\n",
       "      <th></th>\n",
       "    </tr>\n",
       "  </thead>\n",
       "  <tbody>\n",
       "    <tr>\n",
       "      <th>동남아시아</th>\n",
       "      <td>884107.359</td>\n",
       "    </tr>\n",
       "    <tr>\n",
       "      <th>북아시아</th>\n",
       "      <td>848179.941</td>\n",
       "    </tr>\n",
       "    <tr>\n",
       "      <th>오세아니아</th>\n",
       "      <td>1100184.612</td>\n",
       "    </tr>\n",
       "    <tr>\n",
       "      <th>중앙아시아</th>\n",
       "      <td>733968.147</td>\n",
       "    </tr>\n",
       "  </tbody>\n",
       "</table>\n",
       "</div>"
      ],
      "text/plain": [
       "                매출\n",
       "지역                \n",
       "동남아시아   884107.359\n",
       "북아시아    848179.941\n",
       "오세아니아  1100184.612\n",
       "중앙아시아   733968.147"
      ]
     },
     "metadata": {},
     "output_type": "display_data"
    },
    {
     "data": {
      "image/png": "[encoded data removed]",
      "text/plain": [
       "<Figure size 432x288 with 1 Axes>"
      ]
     },
     "metadata": {
      "needs_background": "light"
     },
     "output_type": "display_data"
    },
    {
     "data": {
      "image/png": "[encoded data removed]",
      "text/plain": [
       "<Figure size 432x288 with 1 Axes>"
      ]
     },
     "metadata": {
      "needs_background": "light"
     },
     "output_type": "display_data"
    },
    {
     "data": {
      "image/png": "[encoded data removed]",
      "text/plain": [
       "<Figure size 432x288 with 1 Axes>"
      ]
     },
     "metadata": {
      "needs_background": "light"
     },
     "output_type": "display_data"
    }
   ],
   "source": [
    "temp = pd.DataFrame(df.groupby(\"지역\")[\"매출\"].sum())\n",
    "display(temp)\n",
    "sns.barplot(data=df, x='지역', y='매출')\n",
    "plt.show()\n",
    "sns.barplot(data=df, x='지역', y='수익')\n",
    "plt.show()\n",
    "sns.barplot(data=df, x='지역', y='할인율')\n",
    "plt.show()"
   ]
  },
  {
   "cell_type": "code",
   "execution_count": 13,
   "id": "dcebbb6f",
   "metadata": {},
   "outputs": [
    {
     "data": {
      "text/html": [
       "<div>\n",
       "<style scoped>\n",
       "    .dataframe tbody tr th:only-of-type {\n",
       "        vertical-align: middle;\n",
       "    }\n",
       "\n",
       "    .dataframe tbody tr th {\n",
       "        vertical-align: top;\n",
       "    }\n",
       "\n",
       "    .dataframe thead th {\n",
       "        text-align: right;\n",
       "    }\n",
       "</style>\n",
       "<table border=\"1\" class=\"dataframe\">\n",
       "  <thead>\n",
       "    <tr style=\"text-align: right;\">\n",
       "      <th></th>\n",
       "      <th>수량</th>\n",
       "    </tr>\n",
       "    <tr>\n",
       "      <th>지역</th>\n",
       "      <th></th>\n",
       "    </tr>\n",
       "  </thead>\n",
       "  <tbody>\n",
       "    <tr>\n",
       "      <th>동남아시아</th>\n",
       "      <td>11818</td>\n",
       "    </tr>\n",
       "    <tr>\n",
       "      <th>북아시아</th>\n",
       "      <td>8845</td>\n",
       "    </tr>\n",
       "    <tr>\n",
       "      <th>오세아니아</th>\n",
       "      <td>12838</td>\n",
       "    </tr>\n",
       "    <tr>\n",
       "      <th>중앙아시아</th>\n",
       "      <td>7521</td>\n",
       "    </tr>\n",
       "  </tbody>\n",
       "</table>\n",
       "</div>"
      ],
      "text/plain": [
       "          수량\n",
       "지역          \n",
       "동남아시아  11818\n",
       "북아시아    8845\n",
       "오세아니아  12838\n",
       "중앙아시아   7521"
      ]
     },
     "execution_count": 13,
     "metadata": {},
     "output_type": "execute_result"
    }
   ],
   "source": [
    "temp_1 = pd.DataFrame(df.groupby(\"지역\")[\"수량\"].sum())\n",
    "temp_1"
   ]
  },
  {
   "cell_type": "code",
   "execution_count": 14,
   "id": "666c5866",
   "metadata": {},
   "outputs": [
    {
     "data": {
      "text/html": [
       "<div>\n",
       "<style scoped>\n",
       "    .dataframe tbody tr th:only-of-type {\n",
       "        vertical-align: middle;\n",
       "    }\n",
       "\n",
       "    .dataframe tbody tr th {\n",
       "        vertical-align: top;\n",
       "    }\n",
       "\n",
       "    .dataframe thead th {\n",
       "        text-align: right;\n",
       "    }\n",
       "</style>\n",
       "<table border=\"1\" class=\"dataframe\">\n",
       "  <thead>\n",
       "    <tr style=\"text-align: right;\">\n",
       "      <th></th>\n",
       "      <th>수익</th>\n",
       "    </tr>\n",
       "    <tr>\n",
       "      <th>지역</th>\n",
       "      <th></th>\n",
       "    </tr>\n",
       "  </thead>\n",
       "  <tbody>\n",
       "    <tr>\n",
       "      <th>동남아시아</th>\n",
       "      <td>17885.829</td>\n",
       "    </tr>\n",
       "    <tr>\n",
       "      <th>북아시아</th>\n",
       "      <td>165567.801</td>\n",
       "    </tr>\n",
       "    <tr>\n",
       "      <th>오세아니아</th>\n",
       "      <td>120089.112</td>\n",
       "    </tr>\n",
       "    <tr>\n",
       "      <th>중앙아시아</th>\n",
       "      <td>128511.637</td>\n",
       "    </tr>\n",
       "  </tbody>\n",
       "</table>\n",
       "</div>"
      ],
      "text/plain": [
       "               수익\n",
       "지역               \n",
       "동남아시아   17885.829\n",
       "북아시아   165567.801\n",
       "오세아니아  120089.112\n",
       "중앙아시아  128511.637"
      ]
     },
     "execution_count": 14,
     "metadata": {},
     "output_type": "execute_result"
    }
   ],
   "source": [
    "temp_2 = pd.DataFrame(df.groupby(\"지역\")[\"수익\"].sum())\n",
    "temp_2"
   ]
  },
  {
   "cell_type": "markdown",
   "id": "e2cd7e45",
   "metadata": {},
   "source": [
    "- 동남아시아 문제有\n",
    "    - 많이 팔았는데 수익을 못남겼네 -> 뭘팔았길래.\n",
    "     \n",
    "- 북아시아, 중앙아시아\n",
    "    - 적게 팔고, 수익 많이 남겼네 -> 뭘팔았길래."
   ]
  },
  {
   "cell_type": "markdown",
   "id": "7a32d59a",
   "metadata": {},
   "source": [
    "---"
   ]
  },
  {
   "cell_type": "code",
   "execution_count": 15,
   "id": "b7ee150d",
   "metadata": {},
   "outputs": [],
   "source": [
    "Alex_Avila = df.query(\"지역 == '북아시아'\")\n",
    "Maribeth_Dona = df.query(\"지역 == '중앙아시아'\")\n",
    "Nora_Pelletier = df.query(\"지역 == '오세아니아'\")\n",
    "Sanjit_Engle = df.query(\"지역 == '동남아시아'\")"
   ]
  },
  {
   "cell_type": "code",
   "execution_count": 16,
   "id": "20a64ac3",
   "metadata": {},
   "outputs": [
    {
     "data": {
      "text/html": [
       "<div>\n",
       "<style scoped>\n",
       "    .dataframe tbody tr th:only-of-type {\n",
       "        vertical-align: middle;\n",
       "    }\n",
       "\n",
       "    .dataframe tbody tr th {\n",
       "        vertical-align: top;\n",
       "    }\n",
       "\n",
       "    .dataframe thead th {\n",
       "        text-align: right;\n",
       "    }\n",
       "</style>\n",
       "<table border=\"1\" class=\"dataframe\">\n",
       "  <thead>\n",
       "    <tr style=\"text-align: right;\">\n",
       "      <th></th>\n",
       "      <th>수량</th>\n",
       "    </tr>\n",
       "    <tr>\n",
       "      <th>범주</th>\n",
       "      <th></th>\n",
       "    </tr>\n",
       "  </thead>\n",
       "  <tbody>\n",
       "    <tr>\n",
       "      <th>가구</th>\n",
       "      <td>1992</td>\n",
       "    </tr>\n",
       "    <tr>\n",
       "      <th>기술</th>\n",
       "      <td>1862</td>\n",
       "    </tr>\n",
       "    <tr>\n",
       "      <th>사무용품</th>\n",
       "      <td>4991</td>\n",
       "    </tr>\n",
       "  </tbody>\n",
       "</table>\n",
       "</div>"
      ],
      "text/plain": [
       "        수량\n",
       "범주        \n",
       "가구    1992\n",
       "기술    1862\n",
       "사무용품  4991"
      ]
     },
     "metadata": {},
     "output_type": "display_data"
    },
    {
     "data": {
      "text/html": [
       "<div>\n",
       "<style scoped>\n",
       "    .dataframe tbody tr th:only-of-type {\n",
       "        vertical-align: middle;\n",
       "    }\n",
       "\n",
       "    .dataframe tbody tr th {\n",
       "        vertical-align: top;\n",
       "    }\n",
       "\n",
       "    .dataframe thead th {\n",
       "        text-align: right;\n",
       "    }\n",
       "</style>\n",
       "<table border=\"1\" class=\"dataframe\">\n",
       "  <thead>\n",
       "    <tr style=\"text-align: right;\">\n",
       "      <th></th>\n",
       "      <th>수량</th>\n",
       "    </tr>\n",
       "    <tr>\n",
       "      <th>범주</th>\n",
       "      <th></th>\n",
       "    </tr>\n",
       "  </thead>\n",
       "  <tbody>\n",
       "    <tr>\n",
       "      <th>가구</th>\n",
       "      <td>1712</td>\n",
       "    </tr>\n",
       "    <tr>\n",
       "      <th>기술</th>\n",
       "      <td>1714</td>\n",
       "    </tr>\n",
       "    <tr>\n",
       "      <th>사무용품</th>\n",
       "      <td>4095</td>\n",
       "    </tr>\n",
       "  </tbody>\n",
       "</table>\n",
       "</div>"
      ],
      "text/plain": [
       "        수량\n",
       "범주        \n",
       "가구    1712\n",
       "기술    1714\n",
       "사무용품  4095"
      ]
     },
     "metadata": {},
     "output_type": "display_data"
    },
    {
     "data": {
      "text/html": [
       "<div>\n",
       "<style scoped>\n",
       "    .dataframe tbody tr th:only-of-type {\n",
       "        vertical-align: middle;\n",
       "    }\n",
       "\n",
       "    .dataframe tbody tr th {\n",
       "        vertical-align: top;\n",
       "    }\n",
       "\n",
       "    .dataframe thead th {\n",
       "        text-align: right;\n",
       "    }\n",
       "</style>\n",
       "<table border=\"1\" class=\"dataframe\">\n",
       "  <thead>\n",
       "    <tr style=\"text-align: right;\">\n",
       "      <th></th>\n",
       "      <th>수량</th>\n",
       "    </tr>\n",
       "    <tr>\n",
       "      <th>범주</th>\n",
       "      <th></th>\n",
       "    </tr>\n",
       "  </thead>\n",
       "  <tbody>\n",
       "    <tr>\n",
       "      <th>가구</th>\n",
       "      <td>2728</td>\n",
       "    </tr>\n",
       "    <tr>\n",
       "      <th>기술</th>\n",
       "      <td>2906</td>\n",
       "    </tr>\n",
       "    <tr>\n",
       "      <th>사무용품</th>\n",
       "      <td>7204</td>\n",
       "    </tr>\n",
       "  </tbody>\n",
       "</table>\n",
       "</div>"
      ],
      "text/plain": [
       "        수량\n",
       "범주        \n",
       "가구    2728\n",
       "기술    2906\n",
       "사무용품  7204"
      ]
     },
     "metadata": {},
     "output_type": "display_data"
    },
    {
     "data": {
      "text/html": [
       "<div>\n",
       "<style scoped>\n",
       "    .dataframe tbody tr th:only-of-type {\n",
       "        vertical-align: middle;\n",
       "    }\n",
       "\n",
       "    .dataframe tbody tr th {\n",
       "        vertical-align: top;\n",
       "    }\n",
       "\n",
       "    .dataframe thead th {\n",
       "        text-align: right;\n",
       "    }\n",
       "</style>\n",
       "<table border=\"1\" class=\"dataframe\">\n",
       "  <thead>\n",
       "    <tr style=\"text-align: right;\">\n",
       "      <th></th>\n",
       "      <th>수량</th>\n",
       "    </tr>\n",
       "    <tr>\n",
       "      <th>범주</th>\n",
       "      <th></th>\n",
       "    </tr>\n",
       "  </thead>\n",
       "  <tbody>\n",
       "    <tr>\n",
       "      <th>가구</th>\n",
       "      <td>2627</td>\n",
       "    </tr>\n",
       "    <tr>\n",
       "      <th>기술</th>\n",
       "      <td>2467</td>\n",
       "    </tr>\n",
       "    <tr>\n",
       "      <th>사무용품</th>\n",
       "      <td>6724</td>\n",
       "    </tr>\n",
       "  </tbody>\n",
       "</table>\n",
       "</div>"
      ],
      "text/plain": [
       "        수량\n",
       "범주        \n",
       "가구    2627\n",
       "기술    2467\n",
       "사무용품  6724"
      ]
     },
     "metadata": {},
     "output_type": "display_data"
    }
   ],
   "source": [
    "display(pd.DataFrame(Alex_Avila.groupby(\"범주\")[\"수량\"].sum())) # 북아시아\n",
    "display(pd.DataFrame(Maribeth_Dona.groupby(\"범주\")[\"수량\"].sum())) # 중앙아시아\n",
    "display(pd.DataFrame(Nora_Pelletier.groupby(\"범주\")[\"수량\"].sum())) # 오세아니아\n",
    "display(pd.DataFrame(Sanjit_Engle.groupby(\"범주\")[\"수량\"].sum())) # 동남아시아"
   ]
  },
  {
   "cell_type": "markdown",
   "id": "20f80eb4",
   "metadata": {},
   "source": [
    "뭘 팔았는지는 크게 중요하진 않아 보이네.  \n",
    "어쨌든 동남아시아 담당자 Sanjit 뭔가 마케팅 잘못했다."
   ]
  },
  {
   "attachments": {
    "image.png": {
     "image/png": "[encoded data removed]"
    }
   },
   "cell_type": "markdown",
   "id": "139bc879",
   "metadata": {},
   "source": [
    "---\n",
    "![image.png](attachment:image.png)"
   ]
  },
  {
   "cell_type": "markdown",
   "id": "425d1ed4",
   "metadata": {},
   "source": [
    "음. 확실히 할인율에 문제가 있어.  \n",
    "할인 전략 어떻게 세웠길래 ?  \n",
    "북아시아 담당자 Alex_Avila 벤치마킹 좀 해야할듯  \n",
    "  \n",
    "둘의 마케팅을 비교좀 해보자.  \n",
    "동남아시아, 북아시아만 보자."
   ]
  },
  {
   "attachments": {
    "image-2.png": {
     "image/png": "[encoded data removed]"
    },
    "image.png": {
     "image/png": "[encoded data removed]"
    }
   },
   "cell_type": "markdown",
   "id": "f7ddbf0e",
   "metadata": {},
   "source": [
    "![image.png](attachment:image.png) \n",
    "북아시아의 수익에 기여한 변수는 매출과 할인율.  \n",
    "음.. 당연한건가 ?  \n",
    "  \n",
    "![image-2.png](attachment:image-2.png)\n",
    "동남아시아의 수익에도 할인율이 상관성이 커보인다.  \n",
    "할인 전략 문제 있어보인다. 확실히.."
   ]
  },
  {
   "cell_type": "markdown",
   "id": "d4c94d19",
   "metadata": {},
   "source": [
    "---\n",
    "코로나 펜데믹을 기준으로 데이터가 나뉘는데,  \n",
    "이를 반영했다면, 분명 Split 된 두 데이터는 차이를 보일것임.  \n",
    "그래 한 번 봐보자."
   ]
  },
  {
   "cell_type": "markdown",
   "id": "55f51e0a",
   "metadata": {},
   "source": [
    "# 펜데믹 전 후"
   ]
  },
  {
   "cell_type": "code",
   "execution_count": 17,
   "id": "263ccc48",
   "metadata": {},
   "outputs": [],
   "source": [
    "Alex_before_pendamic = Alex_Avila[ Alex_Avila['주문 날짜'].isin(pd.date_range('2018-01-01', '2020-03-11'))]\n",
    "Sanjit_before_pendamic = Sanjit_Engle[ Sanjit_Engle['주문 날짜'].isin(pd.date_range('2018-01-01', '2020-03-11'))]\n",
    "\n",
    "Alex_after_pendamic = Alex_Avila[ Alex_Avila['주문 날짜'].isin(pd.date_range('2020-03-12', '2021-12-31'))]\n",
    "Sanjit_after_pendamic = Sanjit_Engle[ Sanjit_Engle['주문 날짜'].isin(pd.date_range('2020-03-12', '2021-12-31'))]"
   ]
  },
  {
   "cell_type": "code",
   "execution_count": 18,
   "id": "4d71dabd",
   "metadata": {},
   "outputs": [
    {
     "data": {
      "text/html": [
       "<div>\n",
       "<style scoped>\n",
       "    .dataframe tbody tr th:only-of-type {\n",
       "        vertical-align: middle;\n",
       "    }\n",
       "\n",
       "    .dataframe tbody tr th {\n",
       "        vertical-align: top;\n",
       "    }\n",
       "\n",
       "    .dataframe thead th {\n",
       "        text-align: right;\n",
       "    }\n",
       "</style>\n",
       "<table border=\"1\" class=\"dataframe\">\n",
       "  <thead>\n",
       "    <tr style=\"text-align: right;\">\n",
       "      <th></th>\n",
       "      <th>할인율</th>\n",
       "    </tr>\n",
       "    <tr>\n",
       "      <th>할인율</th>\n",
       "      <th></th>\n",
       "    </tr>\n",
       "  </thead>\n",
       "  <tbody>\n",
       "    <tr>\n",
       "      <th>0.0</th>\n",
       "      <td>0.0</td>\n",
       "    </tr>\n",
       "    <tr>\n",
       "      <th>0.2</th>\n",
       "      <td>0.2</td>\n",
       "    </tr>\n",
       "    <tr>\n",
       "      <th>0.3</th>\n",
       "      <td>0.3</td>\n",
       "    </tr>\n",
       "    <tr>\n",
       "      <th>0.5</th>\n",
       "      <td>0.5</td>\n",
       "    </tr>\n",
       "    <tr>\n",
       "      <th>0.8</th>\n",
       "      <td>0.8</td>\n",
       "    </tr>\n",
       "  </tbody>\n",
       "</table>\n",
       "</div>"
      ],
      "text/plain": [
       "     할인율\n",
       "할인율     \n",
       "0.0  0.0\n",
       "0.2  0.2\n",
       "0.3  0.3\n",
       "0.5  0.5\n",
       "0.8  0.8"
      ]
     },
     "metadata": {},
     "output_type": "display_data"
    },
    {
     "name": "stdout",
     "output_type": "stream",
     "text": [
      "1028\n"
     ]
    },
    {
     "data": {
      "text/html": [
       "<div>\n",
       "<style scoped>\n",
       "    .dataframe tbody tr th:only-of-type {\n",
       "        vertical-align: middle;\n",
       "    }\n",
       "\n",
       "    .dataframe tbody tr th {\n",
       "        vertical-align: top;\n",
       "    }\n",
       "\n",
       "    .dataframe thead th {\n",
       "        text-align: right;\n",
       "    }\n",
       "</style>\n",
       "<table border=\"1\" class=\"dataframe\">\n",
       "  <thead>\n",
       "    <tr style=\"text-align: right;\">\n",
       "      <th></th>\n",
       "      <th>수량</th>\n",
       "    </tr>\n",
       "    <tr>\n",
       "      <th>하위 범주</th>\n",
       "      <th></th>\n",
       "    </tr>\n",
       "  </thead>\n",
       "  <tbody>\n",
       "    <tr>\n",
       "      <th>가전 제품</th>\n",
       "      <td>128</td>\n",
       "    </tr>\n",
       "    <tr>\n",
       "      <th>레이블</th>\n",
       "      <td>334</td>\n",
       "    </tr>\n",
       "    <tr>\n",
       "      <th>미술용품</th>\n",
       "      <td>341</td>\n",
       "    </tr>\n",
       "    <tr>\n",
       "      <th>바인더</th>\n",
       "      <td>380</td>\n",
       "    </tr>\n",
       "    <tr>\n",
       "      <th>보관함</th>\n",
       "      <td>363</td>\n",
       "    </tr>\n",
       "    <tr>\n",
       "      <th>복사기</th>\n",
       "      <td>312</td>\n",
       "    </tr>\n",
       "    <tr>\n",
       "      <th>봉투</th>\n",
       "      <td>265</td>\n",
       "    </tr>\n",
       "    <tr>\n",
       "      <th>사무기기</th>\n",
       "      <td>206</td>\n",
       "    </tr>\n",
       "    <tr>\n",
       "      <th>사무용 집기</th>\n",
       "      <td>276</td>\n",
       "    </tr>\n",
       "    <tr>\n",
       "      <th>사무용품</th>\n",
       "      <td>303</td>\n",
       "    </tr>\n",
       "    <tr>\n",
       "      <th>액세서리</th>\n",
       "      <td>310</td>\n",
       "    </tr>\n",
       "    <tr>\n",
       "      <th>용지</th>\n",
       "      <td>303</td>\n",
       "    </tr>\n",
       "    <tr>\n",
       "      <th>의자</th>\n",
       "      <td>487</td>\n",
       "    </tr>\n",
       "    <tr>\n",
       "      <th>잠금장치</th>\n",
       "      <td>340</td>\n",
       "    </tr>\n",
       "    <tr>\n",
       "      <th>전화기</th>\n",
       "      <td>274</td>\n",
       "    </tr>\n",
       "    <tr>\n",
       "      <th>책장</th>\n",
       "      <td>301</td>\n",
       "    </tr>\n",
       "    <tr>\n",
       "      <th>테이블</th>\n",
       "      <td>83</td>\n",
       "    </tr>\n",
       "  </tbody>\n",
       "</table>\n",
       "</div>"
      ],
      "text/plain": [
       "         수량\n",
       "하위 범주      \n",
       "가전 제품   128\n",
       "레이블     334\n",
       "미술용품    341\n",
       "바인더     380\n",
       "보관함     363\n",
       "복사기     312\n",
       "봉투      265\n",
       "사무기기    206\n",
       "사무용 집기  276\n",
       "사무용품    303\n",
       "액세서리    310\n",
       "용지      303\n",
       "의자      487\n",
       "잠금장치    340\n",
       "전화기     274\n",
       "책장      301\n",
       "테이블      83"
      ]
     },
     "metadata": {},
     "output_type": "display_data"
    },
    {
     "data": {
      "text/plain": [
       "1308"
      ]
     },
     "execution_count": 18,
     "metadata": {},
     "output_type": "execute_result"
    }
   ],
   "source": [
    "display(pd.DataFrame(Alex_before_pendamic.groupby(\"할인율\")[\"할인율\"].mean())) # 북아시아 코로나 이전\n",
    "print(len(Alex_before_pendamic))\n",
    "display(pd.DataFrame(Alex_after_pendamic.groupby(\"하위 범주\")[\"수량\"].sum())) # 북아시아 코론나 이후\n",
    "len(Alex_after_pendamic)"
   ]
  },
  {
   "attachments": {
    "image.png": {
     "image/png": "[encoded data removed]"
    }
   },
   "cell_type": "markdown",
   "id": "10582c5b",
   "metadata": {},
   "source": [
    "![image.png](attachment:image.png)  \n",
    "  \n",
    "음.. 근데 동남아시아도, 북아시아도 코로나 전과 후의 수익은 크게 다르지가 않아."
   ]
  },
  {
   "cell_type": "markdown",
   "id": "e2f4dfca",
   "metadata": {},
   "source": [
    "---"
   ]
  },
  {
   "cell_type": "markdown",
   "id": "2fd99c4a",
   "metadata": {},
   "source": [
    "#### 판매 품목도 비슷해"
   ]
  },
  {
   "cell_type": "code",
   "execution_count": 19,
   "id": "e16e27ab",
   "metadata": {},
   "outputs": [
    {
     "data": {
      "text/html": [
       "<div>\n",
       "<style scoped>\n",
       "    .dataframe tbody tr th:only-of-type {\n",
       "        vertical-align: middle;\n",
       "    }\n",
       "\n",
       "    .dataframe tbody tr th {\n",
       "        vertical-align: top;\n",
       "    }\n",
       "\n",
       "    .dataframe thead th {\n",
       "        text-align: right;\n",
       "    }\n",
       "</style>\n",
       "<table border=\"1\" class=\"dataframe\">\n",
       "  <thead>\n",
       "    <tr style=\"text-align: right;\">\n",
       "      <th></th>\n",
       "      <th>수량</th>\n",
       "    </tr>\n",
       "    <tr>\n",
       "      <th>범주</th>\n",
       "      <th></th>\n",
       "    </tr>\n",
       "  </thead>\n",
       "  <tbody>\n",
       "    <tr>\n",
       "      <th>가구</th>\n",
       "      <td>845</td>\n",
       "    </tr>\n",
       "    <tr>\n",
       "      <th>기술</th>\n",
       "      <td>760</td>\n",
       "    </tr>\n",
       "    <tr>\n",
       "      <th>사무용품</th>\n",
       "      <td>2234</td>\n",
       "    </tr>\n",
       "  </tbody>\n",
       "</table>\n",
       "</div>"
      ],
      "text/plain": [
       "        수량\n",
       "범주        \n",
       "가구     845\n",
       "기술     760\n",
       "사무용품  2234"
      ]
     },
     "metadata": {},
     "output_type": "display_data"
    },
    {
     "name": "stdout",
     "output_type": "stream",
     "text": [
      "1028\n"
     ]
    },
    {
     "data": {
      "text/html": [
       "<div>\n",
       "<style scoped>\n",
       "    .dataframe tbody tr th:only-of-type {\n",
       "        vertical-align: middle;\n",
       "    }\n",
       "\n",
       "    .dataframe tbody tr th {\n",
       "        vertical-align: top;\n",
       "    }\n",
       "\n",
       "    .dataframe thead th {\n",
       "        text-align: right;\n",
       "    }\n",
       "</style>\n",
       "<table border=\"1\" class=\"dataframe\">\n",
       "  <thead>\n",
       "    <tr style=\"text-align: right;\">\n",
       "      <th></th>\n",
       "      <th>수량</th>\n",
       "    </tr>\n",
       "    <tr>\n",
       "      <th>범주</th>\n",
       "      <th></th>\n",
       "    </tr>\n",
       "  </thead>\n",
       "  <tbody>\n",
       "    <tr>\n",
       "      <th>가구</th>\n",
       "      <td>1147</td>\n",
       "    </tr>\n",
       "    <tr>\n",
       "      <th>기술</th>\n",
       "      <td>1102</td>\n",
       "    </tr>\n",
       "    <tr>\n",
       "      <th>사무용품</th>\n",
       "      <td>2757</td>\n",
       "    </tr>\n",
       "  </tbody>\n",
       "</table>\n",
       "</div>"
      ],
      "text/plain": [
       "        수량\n",
       "범주        \n",
       "가구    1147\n",
       "기술    1102\n",
       "사무용품  2757"
      ]
     },
     "metadata": {},
     "output_type": "display_data"
    },
    {
     "data": {
      "text/plain": [
       "1308"
      ]
     },
     "execution_count": 19,
     "metadata": {},
     "output_type": "execute_result"
    }
   ],
   "source": [
    "display(pd.DataFrame(Alex_before_pendamic.groupby(\"범주\")[\"수량\"].sum())) # 북아시아\n",
    "print(len(Alex_before_pendamic))\n",
    "display(pd.DataFrame(Alex_after_pendamic.groupby(\"범주\")[\"수량\"].sum())) # 북아시아\n",
    "len(Alex_after_pendamic)"
   ]
  },
  {
   "cell_type": "code",
   "execution_count": 20,
   "id": "2f07855f",
   "metadata": {},
   "outputs": [
    {
     "data": {
      "text/html": [
       "<div>\n",
       "<style scoped>\n",
       "    .dataframe tbody tr th:only-of-type {\n",
       "        vertical-align: middle;\n",
       "    }\n",
       "\n",
       "    .dataframe tbody tr th {\n",
       "        vertical-align: top;\n",
       "    }\n",
       "\n",
       "    .dataframe thead th {\n",
       "        text-align: right;\n",
       "    }\n",
       "</style>\n",
       "<table border=\"1\" class=\"dataframe\">\n",
       "  <thead>\n",
       "    <tr style=\"text-align: right;\">\n",
       "      <th></th>\n",
       "      <th>수량</th>\n",
       "    </tr>\n",
       "    <tr>\n",
       "      <th>범주</th>\n",
       "      <th></th>\n",
       "    </tr>\n",
       "  </thead>\n",
       "  <tbody>\n",
       "    <tr>\n",
       "      <th>가구</th>\n",
       "      <td>1049</td>\n",
       "    </tr>\n",
       "    <tr>\n",
       "      <th>기술</th>\n",
       "      <td>1103</td>\n",
       "    </tr>\n",
       "    <tr>\n",
       "      <th>사무용품</th>\n",
       "      <td>2789</td>\n",
       "    </tr>\n",
       "  </tbody>\n",
       "</table>\n",
       "</div>"
      ],
      "text/plain": [
       "        수량\n",
       "범주        \n",
       "가구    1049\n",
       "기술    1103\n",
       "사무용품  2789"
      ]
     },
     "metadata": {},
     "output_type": "display_data"
    },
    {
     "name": "stdout",
     "output_type": "stream",
     "text": [
      "1324\n"
     ]
    },
    {
     "data": {
      "text/html": [
       "<div>\n",
       "<style scoped>\n",
       "    .dataframe tbody tr th:only-of-type {\n",
       "        vertical-align: middle;\n",
       "    }\n",
       "\n",
       "    .dataframe tbody tr th {\n",
       "        vertical-align: top;\n",
       "    }\n",
       "\n",
       "    .dataframe thead th {\n",
       "        text-align: right;\n",
       "    }\n",
       "</style>\n",
       "<table border=\"1\" class=\"dataframe\">\n",
       "  <thead>\n",
       "    <tr style=\"text-align: right;\">\n",
       "      <th></th>\n",
       "      <th>수량</th>\n",
       "    </tr>\n",
       "    <tr>\n",
       "      <th>범주</th>\n",
       "      <th></th>\n",
       "    </tr>\n",
       "  </thead>\n",
       "  <tbody>\n",
       "    <tr>\n",
       "      <th>가구</th>\n",
       "      <td>1578</td>\n",
       "    </tr>\n",
       "    <tr>\n",
       "      <th>기술</th>\n",
       "      <td>1364</td>\n",
       "    </tr>\n",
       "    <tr>\n",
       "      <th>사무용품</th>\n",
       "      <td>3935</td>\n",
       "    </tr>\n",
       "  </tbody>\n",
       "</table>\n",
       "</div>"
      ],
      "text/plain": [
       "        수량\n",
       "범주        \n",
       "가구    1578\n",
       "기술    1364\n",
       "사무용품  3935"
      ]
     },
     "metadata": {},
     "output_type": "display_data"
    },
    {
     "data": {
      "text/plain": [
       "1803"
      ]
     },
     "execution_count": 20,
     "metadata": {},
     "output_type": "execute_result"
    }
   ],
   "source": [
    "display(pd.DataFrame(Sanjit_before_pendamic.groupby(\"범주\")[\"수량\"].sum())) # 북아시아\n",
    "print(len(Sanjit_before_pendamic))\n",
    "display(pd.DataFrame(Sanjit_after_pendamic.groupby(\"범주\")[\"수량\"].sum())) # 북아시아\n",
    "len(Sanjit_after_pendamic)"
   ]
  },
  {
   "cell_type": "markdown",
   "id": "b89b6ea7",
   "metadata": {},
   "source": [
    "#### 코로나 펜데믹의 영향이 반영된 데이터는 아닌 것 같은데."
   ]
  },
  {
   "cell_type": "markdown",
   "id": "5c66b53b",
   "metadata": {},
   "source": [
    "그럼.. 그냥 할인율 한 번 파보자.\n",
    "- Sanjit_Engle\n",
    "- Alex_Avila  \n",
    "\n",
    "할인율을 어떻게 달리 했니 너희는 ?"
   ]
  },
  {
   "cell_type": "code",
   "execution_count": 21,
   "id": "7f147928",
   "metadata": {},
   "outputs": [
    {
     "data": {
      "text/html": [
       "<div>\n",
       "<style scoped>\n",
       "    .dataframe tbody tr th:only-of-type {\n",
       "        vertical-align: middle;\n",
       "    }\n",
       "\n",
       "    .dataframe tbody tr th {\n",
       "        vertical-align: top;\n",
       "    }\n",
       "\n",
       "    .dataframe thead th {\n",
       "        text-align: right;\n",
       "    }\n",
       "</style>\n",
       "<table border=\"1\" class=\"dataframe\">\n",
       "  <thead>\n",
       "    <tr style=\"text-align: right;\">\n",
       "      <th></th>\n",
       "      <th>수량</th>\n",
       "    </tr>\n",
       "    <tr>\n",
       "      <th>할인율</th>\n",
       "      <th></th>\n",
       "    </tr>\n",
       "  </thead>\n",
       "  <tbody>\n",
       "    <tr>\n",
       "      <th>0.0</th>\n",
       "      <td>7859</td>\n",
       "    </tr>\n",
       "    <tr>\n",
       "      <th>0.2</th>\n",
       "      <td>155</td>\n",
       "    </tr>\n",
       "    <tr>\n",
       "      <th>0.3</th>\n",
       "      <td>128</td>\n",
       "    </tr>\n",
       "    <tr>\n",
       "      <th>0.5</th>\n",
       "      <td>687</td>\n",
       "    </tr>\n",
       "    <tr>\n",
       "      <th>0.8</th>\n",
       "      <td>16</td>\n",
       "    </tr>\n",
       "  </tbody>\n",
       "</table>\n",
       "</div>"
      ],
      "text/plain": [
       "       수량\n",
       "할인율      \n",
       "0.0  7859\n",
       "0.2   155\n",
       "0.3   128\n",
       "0.5   687\n",
       "0.8    16"
      ]
     },
     "metadata": {},
     "output_type": "display_data"
    },
    {
     "data": {
      "text/html": [
       "<div>\n",
       "<style scoped>\n",
       "    .dataframe tbody tr th:only-of-type {\n",
       "        vertical-align: middle;\n",
       "    }\n",
       "\n",
       "    .dataframe tbody tr th {\n",
       "        vertical-align: top;\n",
       "    }\n",
       "\n",
       "    .dataframe thead th {\n",
       "        text-align: right;\n",
       "    }\n",
       "</style>\n",
       "<table border=\"1\" class=\"dataframe\">\n",
       "  <thead>\n",
       "    <tr style=\"text-align: right;\">\n",
       "      <th></th>\n",
       "      <th>수량</th>\n",
       "    </tr>\n",
       "    <tr>\n",
       "      <th>할인율</th>\n",
       "      <th></th>\n",
       "    </tr>\n",
       "  </thead>\n",
       "  <tbody>\n",
       "    <tr>\n",
       "      <th>0.00</th>\n",
       "      <td>1384</td>\n",
       "    </tr>\n",
       "    <tr>\n",
       "      <th>0.07</th>\n",
       "      <td>533</td>\n",
       "    </tr>\n",
       "    <tr>\n",
       "      <th>0.15</th>\n",
       "      <td>319</td>\n",
       "    </tr>\n",
       "    <tr>\n",
       "      <th>0.17</th>\n",
       "      <td>2720</td>\n",
       "    </tr>\n",
       "    <tr>\n",
       "      <th>0.25</th>\n",
       "      <td>826</td>\n",
       "    </tr>\n",
       "    <tr>\n",
       "      <th>0.27</th>\n",
       "      <td>1453</td>\n",
       "    </tr>\n",
       "    <tr>\n",
       "      <th>0.35</th>\n",
       "      <td>284</td>\n",
       "    </tr>\n",
       "    <tr>\n",
       "      <th>0.37</th>\n",
       "      <td>246</td>\n",
       "    </tr>\n",
       "    <tr>\n",
       "      <th>0.45</th>\n",
       "      <td>1141</td>\n",
       "    </tr>\n",
       "    <tr>\n",
       "      <th>0.47</th>\n",
       "      <td>2829</td>\n",
       "    </tr>\n",
       "    <tr>\n",
       "      <th>0.55</th>\n",
       "      <td>36</td>\n",
       "    </tr>\n",
       "    <tr>\n",
       "      <th>0.57</th>\n",
       "      <td>47</td>\n",
       "    </tr>\n",
       "  </tbody>\n",
       "</table>\n",
       "</div>"
      ],
      "text/plain": [
       "        수량\n",
       "할인율       \n",
       "0.00  1384\n",
       "0.07   533\n",
       "0.15   319\n",
       "0.17  2720\n",
       "0.25   826\n",
       "0.27  1453\n",
       "0.35   284\n",
       "0.37   246\n",
       "0.45  1141\n",
       "0.47  2829\n",
       "0.55    36\n",
       "0.57    47"
      ]
     },
     "metadata": {},
     "output_type": "display_data"
    }
   ],
   "source": [
    "display(pd.DataFrame(Alex_Avila.groupby(\"할인율\")[\"수량\"].sum())) # 북아시아\n",
    "display(pd.DataFrame(Sanjit_Engle.groupby(\"할인율\")[\"수량\"].sum())) # 동남아시아"
   ]
  },
  {
   "cell_type": "markdown",
   "id": "8bdc4c5f",
   "metadata": {},
   "source": [
    "Sanjit의 할인전략 확실히 문제 있어보인다."
   ]
  },
  {
   "cell_type": "code",
   "execution_count": 22,
   "id": "c5296eac",
   "metadata": {
    "scrolled": true
   },
   "outputs": [
    {
     "data": {
      "text/plain": [
       "<AxesSubplot:xlabel='할인율', ylabel='count'>"
      ]
     },
     "execution_count": 22,
     "metadata": {},
     "output_type": "execute_result"
    },
    {
     "data": {
      "image/png": "[encoded data removed]",
      "text/plain": [
       "<Figure size 1440x576 with 2 Axes>"
      ]
     },
     "metadata": {
      "needs_background": "light"
     },
     "output_type": "display_data"
    }
   ],
   "source": [
    "fig, ax = plt.subplots(1,2, figsize=(20,8))\n",
    "\n",
    "sns.countplot(data=Alex_Avila, x='할인율', ax=ax[0])\n",
    "sns.countplot(data=Sanjit_Engle, x='할인율', ax=ax[1])"
   ]
  },
  {
   "cell_type": "code",
   "execution_count": 23,
   "id": "95014f30",
   "metadata": {},
   "outputs": [
    {
     "data": {
      "text/html": [
       "<div>\n",
       "<style scoped>\n",
       "    .dataframe tbody tr th:only-of-type {\n",
       "        vertical-align: middle;\n",
       "    }\n",
       "\n",
       "    .dataframe tbody tr th {\n",
       "        vertical-align: top;\n",
       "    }\n",
       "\n",
       "    .dataframe thead th {\n",
       "        text-align: right;\n",
       "    }\n",
       "</style>\n",
       "<table border=\"1\" class=\"dataframe\">\n",
       "  <thead>\n",
       "    <tr style=\"text-align: right;\">\n",
       "      <th></th>\n",
       "      <th>할인율</th>\n",
       "    </tr>\n",
       "    <tr>\n",
       "      <th>범주</th>\n",
       "      <th></th>\n",
       "    </tr>\n",
       "  </thead>\n",
       "  <tbody>\n",
       "    <tr>\n",
       "      <th>가구</th>\n",
       "      <td>0.050575</td>\n",
       "    </tr>\n",
       "    <tr>\n",
       "      <th>기술</th>\n",
       "      <td>0.044421</td>\n",
       "    </tr>\n",
       "    <tr>\n",
       "      <th>사무용품</th>\n",
       "      <td>0.049624</td>\n",
       "    </tr>\n",
       "  </tbody>\n",
       "</table>\n",
       "</div>"
      ],
      "text/plain": [
       "           할인율\n",
       "범주            \n",
       "가구    0.050575\n",
       "기술    0.044421\n",
       "사무용품  0.049624"
      ]
     },
     "metadata": {},
     "output_type": "display_data"
    },
    {
     "data": {
      "text/html": [
       "<div>\n",
       "<style scoped>\n",
       "    .dataframe tbody tr th:only-of-type {\n",
       "        vertical-align: middle;\n",
       "    }\n",
       "\n",
       "    .dataframe tbody tr th {\n",
       "        vertical-align: top;\n",
       "    }\n",
       "\n",
       "    .dataframe thead th {\n",
       "        text-align: right;\n",
       "    }\n",
       "</style>\n",
       "<table border=\"1\" class=\"dataframe\">\n",
       "  <thead>\n",
       "    <tr style=\"text-align: right;\">\n",
       "      <th></th>\n",
       "      <th>할인율</th>\n",
       "    </tr>\n",
       "    <tr>\n",
       "      <th>범주</th>\n",
       "      <th></th>\n",
       "    </tr>\n",
       "  </thead>\n",
       "  <tbody>\n",
       "    <tr>\n",
       "      <th>가구</th>\n",
       "      <td>0.247216</td>\n",
       "    </tr>\n",
       "    <tr>\n",
       "      <th>기술</th>\n",
       "      <td>0.234305</td>\n",
       "    </tr>\n",
       "    <tr>\n",
       "      <th>사무용품</th>\n",
       "      <td>0.295931</td>\n",
       "    </tr>\n",
       "  </tbody>\n",
       "</table>\n",
       "</div>"
      ],
      "text/plain": [
       "           할인율\n",
       "범주            \n",
       "가구    0.247216\n",
       "기술    0.234305\n",
       "사무용품  0.295931"
      ]
     },
     "metadata": {},
     "output_type": "display_data"
    }
   ],
   "source": [
    "display(pd.DataFrame(Alex_Avila.groupby(\"범주\")[\"할인율\"].mean())) # 북아시아\n",
    "display(pd.DataFrame(Sanjit_Engle.groupby(\"범주\")[\"할인율\"].mean())) # 동남아시아"
   ]
  },
  {
   "cell_type": "markdown",
   "id": "447b7ea4",
   "metadata": {},
   "source": [
    "그냥 일단 대체로 할인을 강하게 했다..\n"
   ]
  },
  {
   "attachments": {
    "image.png": {
     "image/png": "[encoded data removed]"
    }
   },
   "cell_type": "markdown",
   "id": "0ad1a282",
   "metadata": {},
   "source": [
    "![image.png](attachment:image.png)\n",
    "\n",
    "위 그림은 Sanjit의 할인율에 영향을 준 두 변수를 의미한다."
   ]
  },
  {
   "cell_type": "code",
   "execution_count": 24,
   "id": "8ec7c238",
   "metadata": {},
   "outputs": [],
   "source": [
    "from scipy.stats import chi2_contingency"
   ]
  },
  {
   "cell_type": "code",
   "execution_count": 25,
   "id": "efeca496",
   "metadata": {
    "scrolled": true
   },
   "outputs": [],
   "source": [
    "Alex_Avila['적자/흑자'] = '흑자'\n",
    "for i in range(len(Alex_Avila)):\n",
    "    if Alex_Avila['수익'].iloc[i] < 0:\n",
    "        Alex_Avila['적자/흑자'].iat[i] = '적자'"
   ]
  },
  {
   "cell_type": "code",
   "execution_count": 26,
   "id": "5ee4ee8d",
   "metadata": {},
   "outputs": [
    {
     "data": {
      "text/plain": [
       "흑자    2115\n",
       "적자     221\n",
       "Name: 적자/흑자, dtype: int64"
      ]
     },
     "execution_count": 26,
     "metadata": {},
     "output_type": "execute_result"
    }
   ],
   "source": [
    "Alex_Avila['적자/흑자'].value_counts()"
   ]
  },
  {
   "cell_type": "code",
   "execution_count": 27,
   "id": "3f5a556c",
   "metadata": {},
   "outputs": [
    {
     "data": {
      "text/html": [
       "<div>\n",
       "<style scoped>\n",
       "    .dataframe tbody tr th:only-of-type {\n",
       "        vertical-align: middle;\n",
       "    }\n",
       "\n",
       "    .dataframe tbody tr th {\n",
       "        vertical-align: top;\n",
       "    }\n",
       "\n",
       "    .dataframe thead th {\n",
       "        text-align: right;\n",
       "    }\n",
       "</style>\n",
       "<table border=\"1\" class=\"dataframe\">\n",
       "  <thead>\n",
       "    <tr style=\"text-align: right;\">\n",
       "      <th>적자/흑자</th>\n",
       "      <th>적자</th>\n",
       "      <th>흑자</th>\n",
       "      <th>All</th>\n",
       "    </tr>\n",
       "    <tr>\n",
       "      <th>할인율</th>\n",
       "      <th></th>\n",
       "      <th></th>\n",
       "      <th></th>\n",
       "    </tr>\n",
       "  </thead>\n",
       "  <tbody>\n",
       "    <tr>\n",
       "      <th>0.0</th>\n",
       "      <td>0</td>\n",
       "      <td>2077</td>\n",
       "      <td>2077</td>\n",
       "    </tr>\n",
       "    <tr>\n",
       "      <th>0.2</th>\n",
       "      <td>12</td>\n",
       "      <td>22</td>\n",
       "      <td>34</td>\n",
       "    </tr>\n",
       "    <tr>\n",
       "      <th>0.3</th>\n",
       "      <td>20</td>\n",
       "      <td>13</td>\n",
       "      <td>33</td>\n",
       "    </tr>\n",
       "    <tr>\n",
       "      <th>0.5</th>\n",
       "      <td>185</td>\n",
       "      <td>3</td>\n",
       "      <td>188</td>\n",
       "    </tr>\n",
       "    <tr>\n",
       "      <th>0.8</th>\n",
       "      <td>4</td>\n",
       "      <td>0</td>\n",
       "      <td>4</td>\n",
       "    </tr>\n",
       "    <tr>\n",
       "      <th>All</th>\n",
       "      <td>221</td>\n",
       "      <td>2115</td>\n",
       "      <td>2336</td>\n",
       "    </tr>\n",
       "  </tbody>\n",
       "</table>\n",
       "</div>"
      ],
      "text/plain": [
       "적자/흑자   적자    흑자   All\n",
       "할인율                   \n",
       "0.0      0  2077  2077\n",
       "0.2     12    22    34\n",
       "0.3     20    13    33\n",
       "0.5    185     3   188\n",
       "0.8      4     0     4\n",
       "All    221  2115  2336"
      ]
     },
     "execution_count": 27,
     "metadata": {},
     "output_type": "execute_result"
    }
   ],
   "source": [
    "temp_4 = pd.crosstab(Alex_Avila['할인율'], Alex_Avila['적자/흑자'], margins=True)\n",
    "temp_4"
   ]
  },
  {
   "cell_type": "code",
   "execution_count": 28,
   "id": "c12bd764",
   "metadata": {},
   "outputs": [],
   "source": [
    "result=chi2_contingency(observed=temp_4)"
   ]
  },
  {
   "cell_type": "code",
   "execution_count": 29,
   "id": "5e05dcef",
   "metadata": {},
   "outputs": [
    {
     "name": "stdout",
     "output_type": "stream",
     "text": [
      "1. 카이제곱 통계량: 2118.903047295839\n",
      "2. p-value: 0.0\n",
      "3. df: 10\n",
      "4. 기대값 행렬:\n"
     ]
    },
    {
     "data": {
      "text/html": [
       "<div>\n",
       "<style scoped>\n",
       "    .dataframe tbody tr th:only-of-type {\n",
       "        vertical-align: middle;\n",
       "    }\n",
       "\n",
       "    .dataframe tbody tr th {\n",
       "        vertical-align: top;\n",
       "    }\n",
       "\n",
       "    .dataframe thead th {\n",
       "        text-align: right;\n",
       "    }\n",
       "</style>\n",
       "<table border=\"1\" class=\"dataframe\">\n",
       "  <thead>\n",
       "    <tr style=\"text-align: right;\">\n",
       "      <th></th>\n",
       "      <th>적자</th>\n",
       "      <th>흑자</th>\n",
       "      <th>All</th>\n",
       "    </tr>\n",
       "  </thead>\n",
       "  <tbody>\n",
       "    <tr>\n",
       "      <th>0.0</th>\n",
       "      <td>196.497003</td>\n",
       "      <td>1880.502997</td>\n",
       "      <td>2077.0</td>\n",
       "    </tr>\n",
       "    <tr>\n",
       "      <th>0.2</th>\n",
       "      <td>3.216610</td>\n",
       "      <td>30.783390</td>\n",
       "      <td>34.0</td>\n",
       "    </tr>\n",
       "    <tr>\n",
       "      <th>0.3</th>\n",
       "      <td>3.122003</td>\n",
       "      <td>29.877997</td>\n",
       "      <td>33.0</td>\n",
       "    </tr>\n",
       "    <tr>\n",
       "      <th>0.5</th>\n",
       "      <td>17.785959</td>\n",
       "      <td>170.214041</td>\n",
       "      <td>188.0</td>\n",
       "    </tr>\n",
       "    <tr>\n",
       "      <th>0.8</th>\n",
       "      <td>0.378425</td>\n",
       "      <td>3.621575</td>\n",
       "      <td>4.0</td>\n",
       "    </tr>\n",
       "    <tr>\n",
       "      <th>All</th>\n",
       "      <td>221.000000</td>\n",
       "      <td>2115.000000</td>\n",
       "      <td>2336.0</td>\n",
       "    </tr>\n",
       "  </tbody>\n",
       "</table>\n",
       "</div>"
      ],
      "text/plain": [
       "             적자           흑자     All\n",
       "0.0  196.497003  1880.502997  2077.0\n",
       "0.2    3.216610    30.783390    34.0\n",
       "0.3    3.122003    29.877997    33.0\n",
       "0.5   17.785959   170.214041   188.0\n",
       "0.8    0.378425     3.621575     4.0\n",
       "All  221.000000  2115.000000  2336.0"
      ]
     },
     "execution_count": 29,
     "metadata": {},
     "output_type": "execute_result"
    }
   ],
   "source": [
    "print(\"1. 카이제곱 통계량:\", result[0])\n",
    "print(\"2. p-value:\", result[1])\n",
    "print(\"3. df:\", result[2]) #(행의개수-1)*(열의개수-1)\n",
    "print(\"4. 기대값 행렬:\")\n",
    "pd.DataFrame(result[3]).rename(index={0:0.0, 1:0.2, 2:0.3, 3:0.5, 4:0.8, 5:'All'}, columns={0:'적자', 1:'흑자', 2:'All'})"
   ]
  },
  {
   "cell_type": "markdown",
   "id": "ebcd49a9",
   "metadata": {},
   "source": [
    "어쨌든 할인하면 잃게 돼있음.  \n",
    "장사 잘하는 Alex도 손해봐.\n",
    "\n",
    "그럼 왜 하냐 ?\n",
    "\n",
    "50% 이상 할인 판매한 목록만 보자.."
   ]
  },
  {
   "cell_type": "code",
   "execution_count": 30,
   "id": "e9cfd10a",
   "metadata": {},
   "outputs": [],
   "source": [
    "temp_6 = Alex_Avila[Alex_Avila['할인율']>=0.5]"
   ]
  },
  {
   "cell_type": "code",
   "execution_count": 31,
   "id": "0dbd0d39",
   "metadata": {},
   "outputs": [],
   "source": [
    "temp_6[\"주문 월\"] = temp_6['주문 날짜'].dt.month"
   ]
  },
  {
   "cell_type": "code",
   "execution_count": 32,
   "id": "d28b5080",
   "metadata": {},
   "outputs": [
    {
     "data": {
      "text/html": [
       "<div>\n",
       "<style scoped>\n",
       "    .dataframe tbody tr th:only-of-type {\n",
       "        vertical-align: middle;\n",
       "    }\n",
       "\n",
       "    .dataframe tbody tr th {\n",
       "        vertical-align: top;\n",
       "    }\n",
       "\n",
       "    .dataframe thead th {\n",
       "        text-align: right;\n",
       "    }\n",
       "</style>\n",
       "<table border=\"1\" class=\"dataframe\">\n",
       "  <thead>\n",
       "    <tr style=\"text-align: right;\">\n",
       "      <th></th>\n",
       "      <th>할인율</th>\n",
       "    </tr>\n",
       "    <tr>\n",
       "      <th>하위 범주</th>\n",
       "      <th></th>\n",
       "    </tr>\n",
       "  </thead>\n",
       "  <tbody>\n",
       "    <tr>\n",
       "      <th>가전 제품</th>\n",
       "      <td>0.5</td>\n",
       "    </tr>\n",
       "    <tr>\n",
       "      <th>레이블</th>\n",
       "      <td>0.5</td>\n",
       "    </tr>\n",
       "    <tr>\n",
       "      <th>미술용품</th>\n",
       "      <td>0.5</td>\n",
       "    </tr>\n",
       "    <tr>\n",
       "      <th>바인더</th>\n",
       "      <td>0.5</td>\n",
       "    </tr>\n",
       "    <tr>\n",
       "      <th>보관함</th>\n",
       "      <td>0.5</td>\n",
       "    </tr>\n",
       "    <tr>\n",
       "      <th>복사기</th>\n",
       "      <td>0.5</td>\n",
       "    </tr>\n",
       "    <tr>\n",
       "      <th>봉투</th>\n",
       "      <td>0.5</td>\n",
       "    </tr>\n",
       "    <tr>\n",
       "      <th>사무기기</th>\n",
       "      <td>0.5</td>\n",
       "    </tr>\n",
       "    <tr>\n",
       "      <th>사무용 집기</th>\n",
       "      <td>0.5</td>\n",
       "    </tr>\n",
       "    <tr>\n",
       "      <th>사무용품</th>\n",
       "      <td>0.5</td>\n",
       "    </tr>\n",
       "    <tr>\n",
       "      <th>액세서리</th>\n",
       "      <td>0.5</td>\n",
       "    </tr>\n",
       "    <tr>\n",
       "      <th>용지</th>\n",
       "      <td>0.5</td>\n",
       "    </tr>\n",
       "    <tr>\n",
       "      <th>의자</th>\n",
       "      <td>0.5</td>\n",
       "    </tr>\n",
       "    <tr>\n",
       "      <th>잠금장치</th>\n",
       "      <td>0.5</td>\n",
       "    </tr>\n",
       "    <tr>\n",
       "      <th>전화기</th>\n",
       "      <td>0.5</td>\n",
       "    </tr>\n",
       "    <tr>\n",
       "      <th>책장</th>\n",
       "      <td>0.5</td>\n",
       "    </tr>\n",
       "    <tr>\n",
       "      <th>테이블</th>\n",
       "      <td>0.8</td>\n",
       "    </tr>\n",
       "  </tbody>\n",
       "</table>\n",
       "</div>"
      ],
      "text/plain": [
       "        할인율\n",
       "하위 범주      \n",
       "가전 제품   0.5\n",
       "레이블     0.5\n",
       "미술용품    0.5\n",
       "바인더     0.5\n",
       "보관함     0.5\n",
       "복사기     0.5\n",
       "봉투      0.5\n",
       "사무기기    0.5\n",
       "사무용 집기  0.5\n",
       "사무용품    0.5\n",
       "액세서리    0.5\n",
       "용지      0.5\n",
       "의자      0.5\n",
       "잠금장치    0.5\n",
       "전화기     0.5\n",
       "책장      0.5\n",
       "테이블     0.8"
      ]
     },
     "metadata": {},
     "output_type": "display_data"
    }
   ],
   "source": [
    "display(pd.DataFrame(temp_6.groupby(\"하위 범주\")[\"할인율\"].mean())) # 북아시아"
   ]
  },
  {
   "cell_type": "code",
   "execution_count": 33,
   "id": "0df95f39",
   "metadata": {},
   "outputs": [
    {
     "data": {
      "text/plain": [
       "array(['FUR-TA-10004050', 'FUR-TA-10001113', 'FUR-TA-10003748',\n",
       "       'FUR-TA-10000147'], dtype=object)"
      ]
     },
     "execution_count": 33,
     "metadata": {},
     "output_type": "execute_result"
    }
   ],
   "source": [
    "temp_7 = Alex_Avila[Alex_Avila['할인율']>=0.8]\n",
    "temp_7['제품 ID'].unique()"
   ]
  },
  {
   "cell_type": "markdown",
   "id": "81c2fe40",
   "metadata": {},
   "source": [
    "테이블만 떨이로 주네"
   ]
  },
  {
   "cell_type": "markdown",
   "id": "0be2b263",
   "metadata": {},
   "source": [
    "---"
   ]
  },
  {
   "cell_type": "code",
   "execution_count": 34,
   "id": "79e6f0dc",
   "metadata": {},
   "outputs": [],
   "source": [
    "temp_8 = Alex_Avila[Alex_Avila['할인율']>=0.2]\n",
    "temp_8[\"주문 월\"] = temp_8['주문 날짜'].dt.month"
   ]
  },
  {
   "cell_type": "code",
   "execution_count": 35,
   "id": "94bc8285",
   "metadata": {},
   "outputs": [
    {
     "data": {
      "text/html": [
       "<div>\n",
       "<style scoped>\n",
       "    .dataframe tbody tr th:only-of-type {\n",
       "        vertical-align: middle;\n",
       "    }\n",
       "\n",
       "    .dataframe tbody tr th {\n",
       "        vertical-align: top;\n",
       "    }\n",
       "\n",
       "    .dataframe thead th {\n",
       "        text-align: right;\n",
       "    }\n",
       "</style>\n",
       "<table border=\"1\" class=\"dataframe\">\n",
       "  <thead>\n",
       "    <tr style=\"text-align: right;\">\n",
       "      <th></th>\n",
       "      <th>할인율</th>\n",
       "    </tr>\n",
       "    <tr>\n",
       "      <th>주문 월</th>\n",
       "      <th></th>\n",
       "    </tr>\n",
       "  </thead>\n",
       "  <tbody>\n",
       "    <tr>\n",
       "      <th>1</th>\n",
       "      <td>0.366667</td>\n",
       "    </tr>\n",
       "    <tr>\n",
       "      <th>2</th>\n",
       "      <td>0.431250</td>\n",
       "    </tr>\n",
       "    <tr>\n",
       "      <th>3</th>\n",
       "      <td>0.450000</td>\n",
       "    </tr>\n",
       "    <tr>\n",
       "      <th>4</th>\n",
       "      <td>0.458824</td>\n",
       "    </tr>\n",
       "    <tr>\n",
       "      <th>5</th>\n",
       "      <td>0.420000</td>\n",
       "    </tr>\n",
       "    <tr>\n",
       "      <th>6</th>\n",
       "      <td>0.456757</td>\n",
       "    </tr>\n",
       "    <tr>\n",
       "      <th>7</th>\n",
       "      <td>0.472727</td>\n",
       "    </tr>\n",
       "    <tr>\n",
       "      <th>8</th>\n",
       "      <td>0.425714</td>\n",
       "    </tr>\n",
       "    <tr>\n",
       "      <th>9</th>\n",
       "      <td>0.423810</td>\n",
       "    </tr>\n",
       "    <tr>\n",
       "      <th>10</th>\n",
       "      <td>0.416667</td>\n",
       "    </tr>\n",
       "    <tr>\n",
       "      <th>11</th>\n",
       "      <td>0.441667</td>\n",
       "    </tr>\n",
       "    <tr>\n",
       "      <th>12</th>\n",
       "      <td>0.460000</td>\n",
       "    </tr>\n",
       "  </tbody>\n",
       "</table>\n",
       "</div>"
      ],
      "text/plain": [
       "           할인율\n",
       "주문 월          \n",
       "1     0.366667\n",
       "2     0.431250\n",
       "3     0.450000\n",
       "4     0.458824\n",
       "5     0.420000\n",
       "6     0.456757\n",
       "7     0.472727\n",
       "8     0.425714\n",
       "9     0.423810\n",
       "10    0.416667\n",
       "11    0.441667\n",
       "12    0.460000"
      ]
     },
     "metadata": {},
     "output_type": "display_data"
    }
   ],
   "source": [
    "display(pd.DataFrame(temp_8.groupby(\"주문 월\")[\"할인율\"].mean())) # 북아시아"
   ]
  },
  {
   "cell_type": "markdown",
   "id": "7ed3daa5",
   "metadata": {},
   "source": [
    "아 할인은 왜 해줄까.."
   ]
  },
  {
   "cell_type": "markdown",
   "id": "b4af8d79",
   "metadata": {},
   "source": [
    "- 제품 당 평균 수익은?\n",
    "- 제품 당 평균 매출은?\n",
    "- 제품 당 평균 판매 수량은?  "
   ]
  },
  {
   "cell_type": "markdown",
   "id": "2e779fde",
   "metadata": {},
   "source": [
    "---"
   ]
  },
  {
   "cell_type": "code",
   "execution_count": 36,
   "id": "bf49c524",
   "metadata": {},
   "outputs": [],
   "source": [
    "Sanjit_Engle['적자/흑자'] = '흑자'\n",
    "for i in range(len(Sanjit_Engle)):\n",
    "    if Sanjit_Engle['수익'].iloc[i] < 0:\n",
    "        Sanjit_Engle['적자/흑자'].iat[i] = '적자'"
   ]
  },
  {
   "cell_type": "code",
   "execution_count": 37,
   "id": "d4951be5",
   "metadata": {},
   "outputs": [
    {
     "data": {
      "text/plain": [
       "적자    1666\n",
       "흑자    1461\n",
       "Name: 적자/흑자, dtype: int64"
      ]
     },
     "execution_count": 37,
     "metadata": {},
     "output_type": "execute_result"
    }
   ],
   "source": [
    "Sanjit_Engle['적자/흑자'].value_counts()"
   ]
  },
  {
   "cell_type": "code",
   "execution_count": 38,
   "id": "d01bbb01",
   "metadata": {},
   "outputs": [],
   "source": [
    "# temp_5 = pd.crosstab(Sanjit_Engle['할인율'], Sanjit_Engle['적자/흑자'], margins=True)\n",
    "# temp_5"
   ]
  },
  {
   "cell_type": "markdown",
   "id": "6e86b8d3",
   "metadata": {},
   "source": [
    "# 지표 설정"
   ]
  },
  {
   "cell_type": "markdown",
   "id": "2c96d929",
   "metadata": {},
   "source": [
    "1. 매출의 범위로 제품 세그먼트\n",
    "2. 고가 상품인지, 아닌지를 명확히 나눔.\n",
    "3. 나눈 기준에 따라서 할인율을 어떻게 설정할지 정해준다."
   ]
  },
  {
   "cell_type": "markdown",
   "id": "048e44be",
   "metadata": {},
   "source": [
    "- 제품을 세분화 하기 위한 제품 1개 당 매출 (단가)를 계산 \n",
    ": 매출 / 수량\n",
    "- 제품 세그먼트\n",
    "    - 정상가 : ~75%\n",
    "    - 고가 : ~ 75% + (1.5XIQR)\n",
    "    - 최고가 : (1.5XIQR) 기준 이상치로 잡히는 제품\n",
    "\n",
    "! 세그먼트 수 설정 근거는 K-means Clustering Elbow point 확인  \n",
    "! 기준 설정 근거는 distplot, boxplot 확인"
   ]
  },
  {
   "cell_type": "markdown",
   "id": "755535ae",
   "metadata": {},
   "source": [
    "- 제품의 할인율 재설정 필요\n",
    "- 할인한 제품들 -> 할인 전략 성공 / 할인 전략 실패"
   ]
  },
  {
   "cell_type": "code",
   "execution_count": 39,
   "id": "b2760bd9",
   "metadata": {},
   "outputs": [
    {
     "data": {
      "text/plain": [
       "흑자    2115\n",
       "적자     221\n",
       "Name: 적자/흑자, dtype: int64"
      ]
     },
     "execution_count": 39,
     "metadata": {},
     "output_type": "execute_result"
    }
   ],
   "source": [
    "Alex_Avila['적자/흑자'].value_counts()"
   ]
  },
  {
   "cell_type": "code",
   "execution_count": 40,
   "id": "c077696b",
   "metadata": {},
   "outputs": [
    {
     "data": {
      "text/plain": [
       "적자    1666\n",
       "흑자    1461\n",
       "Name: 적자/흑자, dtype: int64"
      ]
     },
     "execution_count": 40,
     "metadata": {},
     "output_type": "execute_result"
    }
   ],
   "source": [
    "Sanjit_Engle['적자/흑자'].value_counts()"
   ]
  },
  {
   "cell_type": "markdown",
   "id": "49354390",
   "metadata": {},
   "source": [
    "### ★★★★★"
   ]
  },
  {
   "cell_type": "code",
   "execution_count": 41,
   "id": "c5ec9c72",
   "metadata": {},
   "outputs": [],
   "source": [
    "Alex_Avila['단가'] = Alex_Avila['매출']\n",
    "Sanjit_Engle['단가'] = Sanjit_Engle['매출']\n",
    "\n",
    "for i in range(len(Alex_Avila)):\n",
    "    if Alex_Avila['할인율'].iloc[i] == 0.0:\n",
    "        Alex_Avila['단가'].iloc[i] = Alex_Avila['매출'].iloc[i]/Alex_Avila['수량'].iloc[i]\n",
    "    else:\n",
    "        Alex_Avila['단가'].iloc[i] = Alex_Avila['매출'].iloc[i]/Alex_Avila['할인율'].iloc[i]/Alex_Avila['수량'].iloc[i]\n",
    "    \n",
    "\n",
    "for i in range(len(Sanjit_Engle)):\n",
    "    if Sanjit_Engle['할인율'].iloc[i] == 0.0:\n",
    "        Sanjit_Engle['단가'].iloc[i] = Sanjit_Engle['매출'].iloc[i]/Sanjit_Engle['수량'].iloc[i]\n",
    "    else:\n",
    "        Sanjit_Engle['단가'].iloc[i] = Sanjit_Engle['매출'].iloc[i]/Sanjit_Engle['할인율'].iloc[i]/Sanjit_Engle['수량'].iloc[i]"
   ]
  },
  {
   "cell_type": "markdown",
   "id": "13a243c4",
   "metadata": {},
   "source": [
    "# 단가를 기준으로 세그먼트"
   ]
  },
  {
   "cell_type": "markdown",
   "id": "dae6c772",
   "metadata": {},
   "source": [
    "#### Sanjit의 판매 제품 세그먼트"
   ]
  },
  {
   "cell_type": "code",
   "execution_count": 42,
   "id": "e1fd97eb",
   "metadata": {
    "scrolled": false
   },
   "outputs": [
    {
     "data": {
      "image/png": "[encoded data removed]",
      "text/plain": [
       "<Figure size 432x288 with 1 Axes>"
      ]
     },
     "metadata": {
      "needs_background": "light"
     },
     "output_type": "display_data"
    }
   ],
   "source": [
    "from sklearn.cluster import KMeans\n",
    "\n",
    "temp_9 = pd.DataFrame()\n",
    "temp_9['C1'] = Sanjit_Engle['단가']\n",
    "temp_9['C2'] = Sanjit_Engle['단가']\n",
    "\n",
    "def elbow(X):\n",
    "    sse = []\n",
    "    for i in range(1,11):\n",
    "        km = KMeans(n_clusters=i, init='k-means++', random_state=0)\n",
    "        km.fit(X)\n",
    "        sse.append(km.inertia_)\n",
    "        \n",
    "    plt.plot(range(1,11), sse, marker='o')\n",
    "    plt.xlabel('Num of Cluster')\n",
    "    plt.ylabel('SSE')\n",
    "    plt.show()\n",
    "elbow(temp_9)"
   ]
  },
  {
   "cell_type": "code",
   "execution_count": 43,
   "id": "c8358587",
   "metadata": {
    "scrolled": true
   },
   "outputs": [
    {
     "data": {
      "text/html": [
       "<div>\n",
       "<style scoped>\n",
       "    .dataframe tbody tr th:only-of-type {\n",
       "        vertical-align: middle;\n",
       "    }\n",
       "\n",
       "    .dataframe tbody tr th {\n",
       "        vertical-align: top;\n",
       "    }\n",
       "\n",
       "    .dataframe thead th {\n",
       "        text-align: right;\n",
       "    }\n",
       "</style>\n",
       "<table border=\"1\" class=\"dataframe\">\n",
       "  <thead>\n",
       "    <tr style=\"text-align: right;\">\n",
       "      <th></th>\n",
       "      <th>단가</th>\n",
       "    </tr>\n",
       "  </thead>\n",
       "  <tbody>\n",
       "    <tr>\n",
       "      <th>count</th>\n",
       "      <td>3127.000000</td>\n",
       "    </tr>\n",
       "    <tr>\n",
       "      <th>mean</th>\n",
       "      <td>395.689597</td>\n",
       "    </tr>\n",
       "    <tr>\n",
       "      <th>std</th>\n",
       "      <td>823.638333</td>\n",
       "    </tr>\n",
       "    <tr>\n",
       "      <th>min</th>\n",
       "      <td>3.870000</td>\n",
       "    </tr>\n",
       "    <tr>\n",
       "      <th>25%</th>\n",
       "      <td>33.474574</td>\n",
       "    </tr>\n",
       "    <tr>\n",
       "      <th>50%</th>\n",
       "      <td>95.805957</td>\n",
       "    </tr>\n",
       "    <tr>\n",
       "      <th>75%</th>\n",
       "      <td>303.800196</td>\n",
       "    </tr>\n",
       "    <tr>\n",
       "      <th>max</th>\n",
       "      <td>5854.615714</td>\n",
       "    </tr>\n",
       "  </tbody>\n",
       "</table>\n",
       "</div>"
      ],
      "text/plain": [
       "                단가\n",
       "count  3127.000000\n",
       "mean    395.689597\n",
       "std     823.638333\n",
       "min       3.870000\n",
       "25%      33.474574\n",
       "50%      95.805957\n",
       "75%     303.800196\n",
       "max    5854.615714"
      ]
     },
     "execution_count": 43,
     "metadata": {},
     "output_type": "execute_result"
    }
   ],
   "source": [
    "pd.DataFrame(Sanjit_Engle['단가'].describe())"
   ]
  },
  {
   "cell_type": "code",
   "execution_count": 44,
   "id": "0f4476a9",
   "metadata": {
    "scrolled": false
   },
   "outputs": [
    {
     "data": {
      "image/png": "[encoded data removed]",
      "text/plain": [
       "<Figure size 432x288 with 1 Axes>"
      ]
     },
     "metadata": {
      "needs_background": "light"
     },
     "output_type": "display_data"
    },
    {
     "data": {
      "image/png": "[encoded data removed]",
      "text/plain": [
       "<Figure size 432x288 with 1 Axes>"
      ]
     },
     "metadata": {
      "needs_background": "light"
     },
     "output_type": "display_data"
    }
   ],
   "source": [
    "sns.distplot(Sanjit_Engle['단가'], kde=True, rug=True)\n",
    "plt.show()\n",
    "sns.boxplot(Sanjit_Engle['단가'])\n",
    "plt.show()"
   ]
  },
  {
   "cell_type": "markdown",
   "id": "49e38393",
   "metadata": {},
   "source": [
    "#### Alex판매 제품 세그먼트"
   ]
  },
  {
   "cell_type": "code",
   "execution_count": 45,
   "id": "398d0dca",
   "metadata": {},
   "outputs": [
    {
     "data": {
      "image/png": "[encoded data removed]",
      "text/plain": [
       "<Figure size 432x288 with 1 Axes>"
      ]
     },
     "metadata": {
      "needs_background": "light"
     },
     "output_type": "display_data"
    }
   ],
   "source": [
    "from sklearn.cluster import KMeans\n",
    "\n",
    "temp_10 = pd.DataFrame()\n",
    "temp_10['C1'] = Alex_Avila['단가']\n",
    "temp_10['C2'] = Alex_Avila['단가']\n",
    "\n",
    "def elbow(X):\n",
    "    sse = []\n",
    "    for i in range(1,11):\n",
    "        km = KMeans(n_clusters=i, init='k-means++', random_state=0)\n",
    "        km.fit(X)\n",
    "        sse.append(km.inertia_)\n",
    "        \n",
    "    plt.plot(range(1,11), sse, marker='o')\n",
    "    plt.xlabel('Num of Cluster')\n",
    "    plt.ylabel('SSE')\n",
    "    plt.show()\n",
    "elbow(temp_10)"
   ]
  },
  {
   "cell_type": "code",
   "execution_count": 46,
   "id": "5f15eaff",
   "metadata": {},
   "outputs": [
    {
     "data": {
      "text/html": [
       "<div>\n",
       "<style scoped>\n",
       "    .dataframe tbody tr th:only-of-type {\n",
       "        vertical-align: middle;\n",
       "    }\n",
       "\n",
       "    .dataframe tbody tr th {\n",
       "        vertical-align: top;\n",
       "    }\n",
       "\n",
       "    .dataframe thead th {\n",
       "        text-align: right;\n",
       "    }\n",
       "</style>\n",
       "<table border=\"1\" class=\"dataframe\">\n",
       "  <thead>\n",
       "    <tr style=\"text-align: right;\">\n",
       "      <th></th>\n",
       "      <th>단가</th>\n",
       "    </tr>\n",
       "  </thead>\n",
       "  <tbody>\n",
       "    <tr>\n",
       "      <th>count</th>\n",
       "      <td>2336.000000</td>\n",
       "    </tr>\n",
       "    <tr>\n",
       "      <th>mean</th>\n",
       "      <td>119.104438</td>\n",
       "    </tr>\n",
       "    <tr>\n",
       "      <th>std</th>\n",
       "      <td>210.474321</td>\n",
       "    </tr>\n",
       "    <tr>\n",
       "      <th>min</th>\n",
       "      <td>3.990000</td>\n",
       "    </tr>\n",
       "    <tr>\n",
       "      <th>25%</th>\n",
       "      <td>18.382500</td>\n",
       "    </tr>\n",
       "    <tr>\n",
       "      <th>50%</th>\n",
       "      <td>47.580000</td>\n",
       "    </tr>\n",
       "    <tr>\n",
       "      <th>75%</th>\n",
       "      <td>138.480000</td>\n",
       "    </tr>\n",
       "    <tr>\n",
       "      <th>max</th>\n",
       "      <td>2158.870000</td>\n",
       "    </tr>\n",
       "  </tbody>\n",
       "</table>\n",
       "</div>"
      ],
      "text/plain": [
       "                단가\n",
       "count  2336.000000\n",
       "mean    119.104438\n",
       "std     210.474321\n",
       "min       3.990000\n",
       "25%      18.382500\n",
       "50%      47.580000\n",
       "75%     138.480000\n",
       "max    2158.870000"
      ]
     },
     "execution_count": 46,
     "metadata": {},
     "output_type": "execute_result"
    }
   ],
   "source": [
    "pd.DataFrame(Alex_Avila['단가'].describe())"
   ]
  },
  {
   "cell_type": "code",
   "execution_count": 47,
   "id": "e2fee037",
   "metadata": {},
   "outputs": [
    {
     "data": {
      "image/png": "[encoded data removed]",
      "text/plain": [
       "<Figure size 432x288 with 1 Axes>"
      ]
     },
     "metadata": {
      "needs_background": "light"
     },
     "output_type": "display_data"
    },
    {
     "data": {
      "image/png": "[encoded data removed]",
      "text/plain": [
       "<Figure size 432x288 with 1 Axes>"
      ]
     },
     "metadata": {
      "needs_background": "light"
     },
     "output_type": "display_data"
    }
   ],
   "source": [
    "sns.distplot(Alex_Avila['단가'], kde=True, rug=True)\n",
    "plt.show()\n",
    "sns.boxplot(Alex_Avila['단가'])\n",
    "plt.show()"
   ]
  },
  {
   "cell_type": "markdown",
   "id": "7b23ad06",
   "metadata": {},
   "source": [
    "## Sanjit 제품\n",
    "Cluster 1 : M <= 95.805957  \n",
    "Cluster 2 : 303.800196 + 1.5 X IQR -> 303.800196 < M<= 709.288629  \n",
    "Cluster 3 : 709.288629 < M  "
   ]
  },
  {
   "cell_type": "markdown",
   "id": "d9db98d8",
   "metadata": {},
   "source": [
    "## Alex 제품\n",
    "Cluster 1 : M <= 138.480000  \n",
    "Cluster 2 : 128.891250 + 1.5 X IQR -> 128.891250 < M<= 318.62625   \n",
    "Cluster 3 : 318.62625 < M    "
   ]
  },
  {
   "cell_type": "markdown",
   "id": "64163fde",
   "metadata": {},
   "source": [
    "고가 상품은 특히 할인 전략을 잘 세워야 할 것이다.  \n",
    "매출을 기준으로 Cluster 1 ~ 3으로 세그먼트를 진행한다."
   ]
  },
  {
   "cell_type": "code",
   "execution_count": 48,
   "id": "b212a1a8",
   "metadata": {},
   "outputs": [],
   "source": [
    "Sanjit_Engle.loc[Sanjit_Engle['단가'] <= 95.805957, '제품 가격(등급)'] = '정상가'\n",
    "Sanjit_Engle.loc[(95.805957 < Sanjit_Engle['단가']) & (Sanjit_Engle['단가']<= 303.800196) , '제품 가격(등급)'] = '고가'\n",
    "Sanjit_Engle.loc[303.800196 < Sanjit_Engle['단가'], '제품 가격(등급)'] = '최고가'"
   ]
  },
  {
   "cell_type": "code",
   "execution_count": 49,
   "id": "d07958c9",
   "metadata": {},
   "outputs": [],
   "source": [
    "Alex_Avila.loc[Alex_Avila['단가'] <= 47.580000, '제품 가격(등급)'] = '정상가'\n",
    "Alex_Avila.loc[(47.580000 < Alex_Avila['단가']) & (Alex_Avila['단가'] <=  138.480000), '제품 가격(등급)'] = '고가'\n",
    "Alex_Avila.loc[138.480000 < Alex_Avila['단가'], '제품 가격(등급)'] = '최고가'"
   ]
  },
  {
   "cell_type": "markdown",
   "id": "6e8af719",
   "metadata": {},
   "source": [
    "---"
   ]
  },
  {
   "cell_type": "code",
   "execution_count": 50,
   "id": "5b899e16",
   "metadata": {},
   "outputs": [
    {
     "data": {
      "text/plain": [
       "정상가    1562\n",
       "고가      783\n",
       "최고가     782\n",
       "Name: 제품 가격(등급), dtype: int64"
      ]
     },
     "execution_count": 50,
     "metadata": {},
     "output_type": "execute_result"
    }
   ],
   "source": [
    "Sanjit_Engle['제품 가격(등급)'].value_counts()"
   ]
  },
  {
   "cell_type": "code",
   "execution_count": 51,
   "id": "aacc1c71",
   "metadata": {
    "scrolled": true
   },
   "outputs": [
    {
     "data": {
      "text/plain": [
       "정상가    1169\n",
       "최고가     585\n",
       "고가      582\n",
       "Name: 제품 가격(등급), dtype: int64"
      ]
     },
     "execution_count": 51,
     "metadata": {},
     "output_type": "execute_result"
    }
   ],
   "source": [
    "Alex_Avila['제품 가격(등급)'].value_counts()"
   ]
  },
  {
   "cell_type": "markdown",
   "id": "6d5dac0d",
   "metadata": {},
   "source": [
    "# 제품 단가 그룹별 특징점을 찾아보자 "
   ]
  },
  {
   "cell_type": "markdown",
   "id": "a3f8ad04",
   "metadata": {},
   "source": [
    "일단 가장 중요한 수익을 비교해보았을 때, Sanjit은 고가, 정상가 제품들에 대해서는 적자를 내고 있다. 왜 그럴까 ?  "
   ]
  },
  {
   "cell_type": "code",
   "execution_count": 52,
   "id": "bdedfea7",
   "metadata": {},
   "outputs": [
    {
     "name": "stdout",
     "output_type": "stream",
     "text": [
      "Sanjit\n"
     ]
    },
    {
     "data": {
      "text/html": [
       "<div>\n",
       "<style scoped>\n",
       "    .dataframe tbody tr th:only-of-type {\n",
       "        vertical-align: middle;\n",
       "    }\n",
       "\n",
       "    .dataframe tbody tr th {\n",
       "        vertical-align: top;\n",
       "    }\n",
       "\n",
       "    .dataframe thead th {\n",
       "        text-align: right;\n",
       "    }\n",
       "</style>\n",
       "<table border=\"1\" class=\"dataframe\">\n",
       "  <thead>\n",
       "    <tr style=\"text-align: right;\">\n",
       "      <th></th>\n",
       "      <th>수익</th>\n",
       "    </tr>\n",
       "    <tr>\n",
       "      <th>제품 가격(등급)</th>\n",
       "      <th></th>\n",
       "    </tr>\n",
       "  </thead>\n",
       "  <tbody>\n",
       "    <tr>\n",
       "      <th>고가</th>\n",
       "      <td>-0.200379</td>\n",
       "    </tr>\n",
       "    <tr>\n",
       "      <th>정상가</th>\n",
       "      <td>-6.804422</td>\n",
       "    </tr>\n",
       "    <tr>\n",
       "      <th>최고가</th>\n",
       "      <td>36.663980</td>\n",
       "    </tr>\n",
       "  </tbody>\n",
       "</table>\n",
       "</div>"
      ],
      "text/plain": [
       "                  수익\n",
       "제품 가격(등급)           \n",
       "고가         -0.200379\n",
       "정상가        -6.804422\n",
       "최고가        36.663980"
      ]
     },
     "metadata": {},
     "output_type": "display_data"
    },
    {
     "data": {
      "image/png": "[encoded data removed]",
      "text/plain": [
       "<Figure size 432x288 with 1 Axes>"
      ]
     },
     "metadata": {
      "needs_background": "light"
     },
     "output_type": "display_data"
    },
    {
     "name": "stdout",
     "output_type": "stream",
     "text": [
      "Alex\n"
     ]
    },
    {
     "data": {
      "text/html": [
       "<div>\n",
       "<style scoped>\n",
       "    .dataframe tbody tr th:only-of-type {\n",
       "        vertical-align: middle;\n",
       "    }\n",
       "\n",
       "    .dataframe tbody tr th {\n",
       "        vertical-align: top;\n",
       "    }\n",
       "\n",
       "    .dataframe thead th {\n",
       "        text-align: right;\n",
       "    }\n",
       "</style>\n",
       "<table border=\"1\" class=\"dataframe\">\n",
       "  <thead>\n",
       "    <tr style=\"text-align: right;\">\n",
       "      <th></th>\n",
       "      <th>수익</th>\n",
       "    </tr>\n",
       "    <tr>\n",
       "      <th>제품 가격(등급)</th>\n",
       "      <th></th>\n",
       "    </tr>\n",
       "  </thead>\n",
       "  <tbody>\n",
       "    <tr>\n",
       "      <th>고가</th>\n",
       "      <td>60.335165</td>\n",
       "    </tr>\n",
       "    <tr>\n",
       "      <th>정상가</th>\n",
       "      <td>18.163512</td>\n",
       "    </tr>\n",
       "    <tr>\n",
       "      <th>최고가</th>\n",
       "      <td>186.700154</td>\n",
       "    </tr>\n",
       "  </tbody>\n",
       "</table>\n",
       "</div>"
      ],
      "text/plain": [
       "                   수익\n",
       "제품 가격(등급)            \n",
       "고가          60.335165\n",
       "정상가         18.163512\n",
       "최고가        186.700154"
      ]
     },
     "metadata": {},
     "output_type": "display_data"
    },
    {
     "data": {
      "text/plain": [
       "<AxesSubplot:xlabel='제품 가격(등급)'>"
      ]
     },
     "execution_count": 52,
     "metadata": {},
     "output_type": "execute_result"
    },
    {
     "data": {
      "image/png": "[encoded data removed]",
      "text/plain": [
       "<Figure size 432x288 with 1 Axes>"
      ]
     },
     "metadata": {
      "needs_background": "light"
     },
     "output_type": "display_data"
    }
   ],
   "source": [
    "print('Sanjit')\n",
    "a = pd.DataFrame(Sanjit_Engle.groupby(\"제품 가격(등급)\")[\"수익\"].mean()) # 동남아시아\n",
    "display(a)\n",
    "a.plot.bar(rot=0)\n",
    "plt.show()\n",
    "print('Alex')\n",
    "b = pd.DataFrame(Alex_Avila.groupby(\"제품 가격(등급)\")[\"수익\"].mean()) # 북아시아\n",
    "display(b)\n",
    "b.plot.bar(rot=0)"
   ]
  },
  {
   "cell_type": "markdown",
   "id": "c1108b4c",
   "metadata": {},
   "source": [
    "### 제품 등급 별 판매 할인정책 비교"
   ]
  },
  {
   "cell_type": "code",
   "execution_count": 53,
   "id": "288b44a8",
   "metadata": {
    "scrolled": false
   },
   "outputs": [
    {
     "name": "stdout",
     "output_type": "stream",
     "text": [
      "Sanjit\n"
     ]
    },
    {
     "data": {
      "text/html": [
       "<div>\n",
       "<style scoped>\n",
       "    .dataframe tbody tr th:only-of-type {\n",
       "        vertical-align: middle;\n",
       "    }\n",
       "\n",
       "    .dataframe tbody tr th {\n",
       "        vertical-align: top;\n",
       "    }\n",
       "\n",
       "    .dataframe thead th {\n",
       "        text-align: right;\n",
       "    }\n",
       "</style>\n",
       "<table border=\"1\" class=\"dataframe\">\n",
       "  <thead>\n",
       "    <tr style=\"text-align: right;\">\n",
       "      <th></th>\n",
       "      <th>할인율</th>\n",
       "    </tr>\n",
       "    <tr>\n",
       "      <th>제품 가격(등급)</th>\n",
       "      <th></th>\n",
       "    </tr>\n",
       "  </thead>\n",
       "  <tbody>\n",
       "    <tr>\n",
       "      <th>고가</th>\n",
       "      <td>0.236143</td>\n",
       "    </tr>\n",
       "    <tr>\n",
       "      <th>정상가</th>\n",
       "      <td>0.325077</td>\n",
       "    </tr>\n",
       "    <tr>\n",
       "      <th>최고가</th>\n",
       "      <td>0.202123</td>\n",
       "    </tr>\n",
       "  </tbody>\n",
       "</table>\n",
       "</div>"
      ],
      "text/plain": [
       "                할인율\n",
       "제품 가격(등급)          \n",
       "고가         0.236143\n",
       "정상가        0.325077\n",
       "최고가        0.202123"
      ]
     },
     "metadata": {},
     "output_type": "display_data"
    },
    {
     "data": {
      "image/png": "[encoded data removed]",
      "text/plain": [
       "<Figure size 432x288 with 1 Axes>"
      ]
     },
     "metadata": {
      "needs_background": "light"
     },
     "output_type": "display_data"
    },
    {
     "name": "stdout",
     "output_type": "stream",
     "text": [
      "Alex\n"
     ]
    },
    {
     "data": {
      "text/html": [
       "<div>\n",
       "<style scoped>\n",
       "    .dataframe tbody tr th:only-of-type {\n",
       "        vertical-align: middle;\n",
       "    }\n",
       "\n",
       "    .dataframe tbody tr th {\n",
       "        vertical-align: top;\n",
       "    }\n",
       "\n",
       "    .dataframe thead th {\n",
       "        text-align: right;\n",
       "    }\n",
       "</style>\n",
       "<table border=\"1\" class=\"dataframe\">\n",
       "  <thead>\n",
       "    <tr style=\"text-align: right;\">\n",
       "      <th></th>\n",
       "      <th>할인율</th>\n",
       "    </tr>\n",
       "    <tr>\n",
       "      <th>제품 가격(등급)</th>\n",
       "      <th></th>\n",
       "    </tr>\n",
       "  </thead>\n",
       "  <tbody>\n",
       "    <tr>\n",
       "      <th>고가</th>\n",
       "      <td>0.046220</td>\n",
       "    </tr>\n",
       "    <tr>\n",
       "      <th>정상가</th>\n",
       "      <td>0.043627</td>\n",
       "    </tr>\n",
       "    <tr>\n",
       "      <th>최고가</th>\n",
       "      <td>0.061538</td>\n",
       "    </tr>\n",
       "  </tbody>\n",
       "</table>\n",
       "</div>"
      ],
      "text/plain": [
       "                할인율\n",
       "제품 가격(등급)          \n",
       "고가         0.046220\n",
       "정상가        0.043627\n",
       "최고가        0.061538"
      ]
     },
     "metadata": {},
     "output_type": "display_data"
    },
    {
     "data": {
      "text/plain": [
       "<AxesSubplot:xlabel='제품 가격(등급)'>"
      ]
     },
     "execution_count": 53,
     "metadata": {},
     "output_type": "execute_result"
    },
    {
     "data": {
      "image/png": "[encoded data removed]",
      "text/plain": [
       "<Figure size 432x288 with 1 Axes>"
      ]
     },
     "metadata": {
      "needs_background": "light"
     },
     "output_type": "display_data"
    }
   ],
   "source": [
    "print('Sanjit')\n",
    "a = pd.DataFrame(Sanjit_Engle.groupby(\"제품 가격(등급)\")[\"할인율\"].mean()) # 동남아시아\n",
    "display(a)\n",
    "a.plot.bar(rot=0)\n",
    "plt.show()\n",
    "print('Alex')\n",
    "b = pd.DataFrame(Alex_Avila.groupby(\"제품 가격(등급)\")[\"할인율\"].mean()) # 북아시아\n",
    "display(b)\n",
    "b.plot.bar(rot=0)"
   ]
  },
  {
   "cell_type": "markdown",
   "id": "f06e7ecf",
   "metadata": {},
   "source": [
    "### 제품 등급 별 판매 수량 비교"
   ]
  },
  {
   "cell_type": "code",
   "execution_count": 54,
   "id": "d95c5143",
   "metadata": {},
   "outputs": [],
   "source": [
    "# print('Sanjit')\n",
    "# a = pd.DataFrame(Sanjit_Engle.groupby(\"제품 가격(등급)\")[\"수량\"].mean()) # 동남아시아\n",
    "# display(a)\n",
    "# a.plot.bar(rot=0)\n",
    "# plt.show()\n",
    "# print('Alex')\n",
    "# b = pd.DataFrame(Alex_Avila.groupby(\"제품 가격(등급)\")[\"수량\"].mean()) # 북아시아\n",
    "# display(b)\n",
    "# b.plot.bar(rot=0)"
   ]
  },
  {
   "cell_type": "markdown",
   "id": "18884dc8",
   "metadata": {},
   "source": [
    "---"
   ]
  },
  {
   "cell_type": "markdown",
   "id": "9b0d2c39",
   "metadata": {},
   "source": [
    "---"
   ]
  },
  {
   "cell_type": "markdown",
   "id": "2936f53e",
   "metadata": {},
   "source": [
    "## 세그먼트 분석"
   ]
  },
  {
   "cell_type": "code",
   "execution_count": 55,
   "id": "2afa6e1a",
   "metadata": {},
   "outputs": [
    {
     "name": "stdout",
     "output_type": "stream",
     "text": [
      "Sanjit\n"
     ]
    },
    {
     "data": {
      "text/html": [
       "<div>\n",
       "<style scoped>\n",
       "    .dataframe tbody tr th:only-of-type {\n",
       "        vertical-align: middle;\n",
       "    }\n",
       "\n",
       "    .dataframe tbody tr th {\n",
       "        vertical-align: top;\n",
       "    }\n",
       "\n",
       "    .dataframe thead th {\n",
       "        text-align: right;\n",
       "    }\n",
       "</style>\n",
       "<table border=\"1\" class=\"dataframe\">\n",
       "  <thead>\n",
       "    <tr style=\"text-align: right;\">\n",
       "      <th></th>\n",
       "      <th>수익</th>\n",
       "    </tr>\n",
       "    <tr>\n",
       "      <th>세그먼트</th>\n",
       "      <th></th>\n",
       "    </tr>\n",
       "  </thead>\n",
       "  <tbody>\n",
       "    <tr>\n",
       "      <th>기업</th>\n",
       "      <td>4.078259</td>\n",
       "    </tr>\n",
       "    <tr>\n",
       "      <th>일반 소비자</th>\n",
       "      <td>6.230701</td>\n",
       "    </tr>\n",
       "    <tr>\n",
       "      <th>홈 오피스</th>\n",
       "      <td>6.860519</td>\n",
       "    </tr>\n",
       "  </tbody>\n",
       "</table>\n",
       "</div>"
      ],
      "text/plain": [
       "              수익\n",
       "세그먼트            \n",
       "기업      4.078259\n",
       "일반 소비자  6.230701\n",
       "홈 오피스   6.860519"
      ]
     },
     "metadata": {},
     "output_type": "display_data"
    },
    {
     "data": {
      "image/png": "[encoded data removed]",
      "text/plain": [
       "<Figure size 432x288 with 1 Axes>"
      ]
     },
     "metadata": {
      "needs_background": "light"
     },
     "output_type": "display_data"
    },
    {
     "name": "stdout",
     "output_type": "stream",
     "text": [
      "Alex\n"
     ]
    },
    {
     "data": {
      "text/html": [
       "<div>\n",
       "<style scoped>\n",
       "    .dataframe tbody tr th:only-of-type {\n",
       "        vertical-align: middle;\n",
       "    }\n",
       "\n",
       "    .dataframe tbody tr th {\n",
       "        vertical-align: top;\n",
       "    }\n",
       "\n",
       "    .dataframe thead th {\n",
       "        text-align: right;\n",
       "    }\n",
       "</style>\n",
       "<table border=\"1\" class=\"dataframe\">\n",
       "  <thead>\n",
       "    <tr style=\"text-align: right;\">\n",
       "      <th></th>\n",
       "      <th>수익</th>\n",
       "    </tr>\n",
       "    <tr>\n",
       "      <th>세그먼트</th>\n",
       "      <th></th>\n",
       "    </tr>\n",
       "  </thead>\n",
       "  <tbody>\n",
       "    <tr>\n",
       "      <th>기업</th>\n",
       "      <td>70.361195</td>\n",
       "    </tr>\n",
       "    <tr>\n",
       "      <th>일반 소비자</th>\n",
       "      <td>69.495711</td>\n",
       "    </tr>\n",
       "    <tr>\n",
       "      <th>홈 오피스</th>\n",
       "      <td>75.176270</td>\n",
       "    </tr>\n",
       "  </tbody>\n",
       "</table>\n",
       "</div>"
      ],
      "text/plain": [
       "               수익\n",
       "세그먼트             \n",
       "기업      70.361195\n",
       "일반 소비자  69.495711\n",
       "홈 오피스   75.176270"
      ]
     },
     "metadata": {},
     "output_type": "display_data"
    },
    {
     "data": {
      "text/plain": [
       "<AxesSubplot:xlabel='세그먼트'>"
      ]
     },
     "execution_count": 55,
     "metadata": {},
     "output_type": "execute_result"
    },
    {
     "data": {
      "image/png": "[encoded data removed]",
      "text/plain": [
       "<Figure size 432x288 with 1 Axes>"
      ]
     },
     "metadata": {
      "needs_background": "light"
     },
     "output_type": "display_data"
    }
   ],
   "source": [
    "print('Sanjit')\n",
    "a = pd.DataFrame(Sanjit_Engle.groupby(\"세그먼트\")[\"수익\"].mean()) # 동남아시아\n",
    "display(a)\n",
    "a.plot.bar(rot=0)\n",
    "plt.show()\n",
    "print('Alex')\n",
    "b = pd.DataFrame(Alex_Avila.groupby(\"세그먼트\")[\"수익\"].mean()) # 북아시아\n",
    "display(b)\n",
    "b.plot.bar(rot=0)"
   ]
  },
  {
   "cell_type": "code",
   "execution_count": 56,
   "id": "7b6175c3",
   "metadata": {},
   "outputs": [
    {
     "name": "stdout",
     "output_type": "stream",
     "text": [
      "Sanjit\n"
     ]
    },
    {
     "data": {
      "text/html": [
       "<div>\n",
       "<style scoped>\n",
       "    .dataframe tbody tr th:only-of-type {\n",
       "        vertical-align: middle;\n",
       "    }\n",
       "\n",
       "    .dataframe tbody tr th {\n",
       "        vertical-align: top;\n",
       "    }\n",
       "\n",
       "    .dataframe thead th {\n",
       "        text-align: right;\n",
       "    }\n",
       "</style>\n",
       "<table border=\"1\" class=\"dataframe\">\n",
       "  <thead>\n",
       "    <tr style=\"text-align: right;\">\n",
       "      <th></th>\n",
       "      <th>할인율</th>\n",
       "    </tr>\n",
       "    <tr>\n",
       "      <th>세그먼트</th>\n",
       "      <th></th>\n",
       "    </tr>\n",
       "  </thead>\n",
       "  <tbody>\n",
       "    <tr>\n",
       "      <th>기업</th>\n",
       "      <td>0.280935</td>\n",
       "    </tr>\n",
       "    <tr>\n",
       "      <th>일반 소비자</th>\n",
       "      <td>0.264417</td>\n",
       "    </tr>\n",
       "    <tr>\n",
       "      <th>홈 오피스</th>\n",
       "      <td>0.280000</td>\n",
       "    </tr>\n",
       "  </tbody>\n",
       "</table>\n",
       "</div>"
      ],
      "text/plain": [
       "             할인율\n",
       "세그먼트            \n",
       "기업      0.280935\n",
       "일반 소비자  0.264417\n",
       "홈 오피스   0.280000"
      ]
     },
     "metadata": {},
     "output_type": "display_data"
    },
    {
     "data": {
      "image/png": "[encoded data removed]",
      "text/plain": [
       "<Figure size 432x288 with 1 Axes>"
      ]
     },
     "metadata": {
      "needs_background": "light"
     },
     "output_type": "display_data"
    },
    {
     "name": "stdout",
     "output_type": "stream",
     "text": [
      "Alex\n"
     ]
    },
    {
     "data": {
      "text/html": [
       "<div>\n",
       "<style scoped>\n",
       "    .dataframe tbody tr th:only-of-type {\n",
       "        vertical-align: middle;\n",
       "    }\n",
       "\n",
       "    .dataframe tbody tr th {\n",
       "        vertical-align: top;\n",
       "    }\n",
       "\n",
       "    .dataframe thead th {\n",
       "        text-align: right;\n",
       "    }\n",
       "</style>\n",
       "<table border=\"1\" class=\"dataframe\">\n",
       "  <thead>\n",
       "    <tr style=\"text-align: right;\">\n",
       "      <th></th>\n",
       "      <th>할인율</th>\n",
       "    </tr>\n",
       "    <tr>\n",
       "      <th>세그먼트</th>\n",
       "      <th></th>\n",
       "    </tr>\n",
       "  </thead>\n",
       "  <tbody>\n",
       "    <tr>\n",
       "      <th>기업</th>\n",
       "      <td>0.037994</td>\n",
       "    </tr>\n",
       "    <tr>\n",
       "      <th>일반 소비자</th>\n",
       "      <td>0.050086</td>\n",
       "    </tr>\n",
       "    <tr>\n",
       "      <th>홈 오피스</th>\n",
       "      <td>0.061957</td>\n",
       "    </tr>\n",
       "  </tbody>\n",
       "</table>\n",
       "</div>"
      ],
      "text/plain": [
       "             할인율\n",
       "세그먼트            \n",
       "기업      0.037994\n",
       "일반 소비자  0.050086\n",
       "홈 오피스   0.061957"
      ]
     },
     "metadata": {},
     "output_type": "display_data"
    },
    {
     "data": {
      "text/plain": [
       "<AxesSubplot:xlabel='세그먼트'>"
      ]
     },
     "execution_count": 56,
     "metadata": {},
     "output_type": "execute_result"
    },
    {
     "data": {
      "image/png": "[encoded data removed]",
      "text/plain": [
       "<Figure size 432x288 with 1 Axes>"
      ]
     },
     "metadata": {
      "needs_background": "light"
     },
     "output_type": "display_data"
    }
   ],
   "source": [
    "print('Sanjit')\n",
    "a = pd.DataFrame(Sanjit_Engle.groupby(\"세그먼트\")[\"할인율\"].mean()) # 동남아시아\n",
    "display(a)\n",
    "a.plot.bar(rot=0)\n",
    "plt.show()\n",
    "print('Alex')\n",
    "b = pd.DataFrame(Alex_Avila.groupby(\"세그먼트\")[\"할인율\"].mean()) # 북아시아\n",
    "display(b)\n",
    "b.plot.bar(rot=0)"
   ]
  },
  {
   "cell_type": "code",
   "execution_count": 57,
   "id": "ae2529e2",
   "metadata": {},
   "outputs": [
    {
     "name": "stdout",
     "output_type": "stream",
     "text": [
      "Sanjit\n"
     ]
    },
    {
     "data": {
      "text/html": [
       "<div>\n",
       "<style scoped>\n",
       "    .dataframe tbody tr th:only-of-type {\n",
       "        vertical-align: middle;\n",
       "    }\n",
       "\n",
       "    .dataframe tbody tr th {\n",
       "        vertical-align: top;\n",
       "    }\n",
       "\n",
       "    .dataframe thead th {\n",
       "        text-align: right;\n",
       "    }\n",
       "</style>\n",
       "<table border=\"1\" class=\"dataframe\">\n",
       "  <thead>\n",
       "    <tr style=\"text-align: right;\">\n",
       "      <th></th>\n",
       "      <th>수량</th>\n",
       "    </tr>\n",
       "    <tr>\n",
       "      <th>세그먼트</th>\n",
       "      <th></th>\n",
       "    </tr>\n",
       "  </thead>\n",
       "  <tbody>\n",
       "    <tr>\n",
       "      <th>기업</th>\n",
       "      <td>3.685369</td>\n",
       "    </tr>\n",
       "    <tr>\n",
       "      <th>일반 소비자</th>\n",
       "      <td>3.801578</td>\n",
       "    </tr>\n",
       "    <tr>\n",
       "      <th>홈 오피스</th>\n",
       "      <td>3.864912</td>\n",
       "    </tr>\n",
       "  </tbody>\n",
       "</table>\n",
       "</div>"
      ],
      "text/plain": [
       "              수량\n",
       "세그먼트            \n",
       "기업      3.685369\n",
       "일반 소비자  3.801578\n",
       "홈 오피스   3.864912"
      ]
     },
     "metadata": {},
     "output_type": "display_data"
    },
    {
     "data": {
      "image/png": "[encoded data removed]",
      "text/plain": [
       "<Figure size 432x288 with 1 Axes>"
      ]
     },
     "metadata": {
      "needs_background": "light"
     },
     "output_type": "display_data"
    },
    {
     "name": "stdout",
     "output_type": "stream",
     "text": [
      "Alex\n"
     ]
    },
    {
     "data": {
      "text/html": [
       "<div>\n",
       "<style scoped>\n",
       "    .dataframe tbody tr th:only-of-type {\n",
       "        vertical-align: middle;\n",
       "    }\n",
       "\n",
       "    .dataframe tbody tr th {\n",
       "        vertical-align: top;\n",
       "    }\n",
       "\n",
       "    .dataframe thead th {\n",
       "        text-align: right;\n",
       "    }\n",
       "</style>\n",
       "<table border=\"1\" class=\"dataframe\">\n",
       "  <thead>\n",
       "    <tr style=\"text-align: right;\">\n",
       "      <th></th>\n",
       "      <th>수량</th>\n",
       "    </tr>\n",
       "    <tr>\n",
       "      <th>세그먼트</th>\n",
       "      <th></th>\n",
       "    </tr>\n",
       "  </thead>\n",
       "  <tbody>\n",
       "    <tr>\n",
       "      <th>기업</th>\n",
       "      <td>3.814972</td>\n",
       "    </tr>\n",
       "    <tr>\n",
       "      <th>일반 소비자</th>\n",
       "      <td>3.784247</td>\n",
       "    </tr>\n",
       "    <tr>\n",
       "      <th>홈 오피스</th>\n",
       "      <td>3.747826</td>\n",
       "    </tr>\n",
       "  </tbody>\n",
       "</table>\n",
       "</div>"
      ],
      "text/plain": [
       "              수량\n",
       "세그먼트            \n",
       "기업      3.814972\n",
       "일반 소비자  3.784247\n",
       "홈 오피스   3.747826"
      ]
     },
     "metadata": {},
     "output_type": "display_data"
    },
    {
     "data": {
      "text/plain": [
       "<AxesSubplot:xlabel='세그먼트'>"
      ]
     },
     "execution_count": 57,
     "metadata": {},
     "output_type": "execute_result"
    },
    {
     "data": {
      "image/png": "[encoded data removed]",
      "text/plain": [
       "<Figure size 432x288 with 1 Axes>"
      ]
     },
     "metadata": {
      "needs_background": "light"
     },
     "output_type": "display_data"
    }
   ],
   "source": [
    "print('Sanjit')\n",
    "a = pd.DataFrame(Sanjit_Engle.groupby(\"세그먼트\")[\"수량\"].mean()) # 동남아시아\n",
    "display(a)\n",
    "a.plot.bar(rot=0)\n",
    "plt.show()\n",
    "print('Alex')\n",
    "b = pd.DataFrame(Alex_Avila.groupby(\"세그먼트\")[\"수량\"].mean()) # 북아시아\n",
    "display(b)\n",
    "b.plot.bar(rot=0)"
   ]
  },
  {
   "cell_type": "markdown",
   "id": "c78fda89",
   "metadata": {},
   "source": [
    "# 인사이트 : 세그먼트 간 할인정책을 달리했고 수익에 영향줬음"
   ]
  },
  {
   "cell_type": "markdown",
   "id": "b28aedf9",
   "metadata": {},
   "source": [
    "### 범주별 분석"
   ]
  },
  {
   "cell_type": "code",
   "execution_count": 58,
   "id": "0506a35d",
   "metadata": {},
   "outputs": [
    {
     "name": "stdout",
     "output_type": "stream",
     "text": [
      "Sanjit\n"
     ]
    },
    {
     "data": {
      "text/html": [
       "<div>\n",
       "<style scoped>\n",
       "    .dataframe tbody tr th:only-of-type {\n",
       "        vertical-align: middle;\n",
       "    }\n",
       "\n",
       "    .dataframe tbody tr th {\n",
       "        vertical-align: top;\n",
       "    }\n",
       "\n",
       "    .dataframe thead th {\n",
       "        text-align: right;\n",
       "    }\n",
       "</style>\n",
       "<table border=\"1\" class=\"dataframe\">\n",
       "  <thead>\n",
       "    <tr style=\"text-align: right;\">\n",
       "      <th></th>\n",
       "      <th>수익</th>\n",
       "    </tr>\n",
       "    <tr>\n",
       "      <th>범주</th>\n",
       "      <th></th>\n",
       "    </tr>\n",
       "  </thead>\n",
       "  <tbody>\n",
       "    <tr>\n",
       "      <th>가구</th>\n",
       "      <td>-10.551934</td>\n",
       "    </tr>\n",
       "    <tr>\n",
       "      <th>기술</th>\n",
       "      <td>31.313668</td>\n",
       "    </tr>\n",
       "    <tr>\n",
       "      <th>사무용품</th>\n",
       "      <td>2.356440</td>\n",
       "    </tr>\n",
       "  </tbody>\n",
       "</table>\n",
       "</div>"
      ],
      "text/plain": [
       "             수익\n",
       "범주             \n",
       "가구   -10.551934\n",
       "기술    31.313668\n",
       "사무용품   2.356440"
      ]
     },
     "metadata": {},
     "output_type": "display_data"
    },
    {
     "data": {
      "image/png": "[encoded data removed]",
      "text/plain": [
       "<Figure size 432x288 with 1 Axes>"
      ]
     },
     "metadata": {
      "needs_background": "light"
     },
     "output_type": "display_data"
    },
    {
     "name": "stdout",
     "output_type": "stream",
     "text": [
      "Alex\n"
     ]
    },
    {
     "data": {
      "text/html": [
       "<div>\n",
       "<style scoped>\n",
       "    .dataframe tbody tr th:only-of-type {\n",
       "        vertical-align: middle;\n",
       "    }\n",
       "\n",
       "    .dataframe tbody tr th {\n",
       "        vertical-align: top;\n",
       "    }\n",
       "\n",
       "    .dataframe thead th {\n",
       "        text-align: right;\n",
       "    }\n",
       "</style>\n",
       "<table border=\"1\" class=\"dataframe\">\n",
       "  <thead>\n",
       "    <tr style=\"text-align: right;\">\n",
       "      <th></th>\n",
       "      <th>수익</th>\n",
       "    </tr>\n",
       "    <tr>\n",
       "      <th>범주</th>\n",
       "      <th></th>\n",
       "    </tr>\n",
       "  </thead>\n",
       "  <tbody>\n",
       "    <tr>\n",
       "      <th>가구</th>\n",
       "      <td>99.964178</td>\n",
       "    </tr>\n",
       "    <tr>\n",
       "      <th>기술</th>\n",
       "      <td>149.733502</td>\n",
       "    </tr>\n",
       "    <tr>\n",
       "      <th>사무용품</th>\n",
       "      <td>30.763523</td>\n",
       "    </tr>\n",
       "  </tbody>\n",
       "</table>\n",
       "</div>"
      ],
      "text/plain": [
       "              수익\n",
       "범주              \n",
       "가구     99.964178\n",
       "기술    149.733502\n",
       "사무용품   30.763523"
      ]
     },
     "metadata": {},
     "output_type": "display_data"
    },
    {
     "data": {
      "text/plain": [
       "<AxesSubplot:xlabel='범주'>"
      ]
     },
     "execution_count": 58,
     "metadata": {},
     "output_type": "execute_result"
    },
    {
     "data": {
      "image/png": "[encoded data removed]",
      "text/plain": [
       "<Figure size 432x288 with 1 Axes>"
      ]
     },
     "metadata": {
      "needs_background": "light"
     },
     "output_type": "display_data"
    }
   ],
   "source": [
    "print('Sanjit')\n",
    "a = pd.DataFrame(Sanjit_Engle.groupby(\"범주\")[\"수익\"].mean()) # 동남아시아\n",
    "display(a)\n",
    "a.plot.bar(rot=0)\n",
    "plt.show()\n",
    "print('Alex')\n",
    "b = pd.DataFrame(Alex_Avila.groupby(\"범주\")[\"수익\"].mean()) # 북아시아\n",
    "display(b)\n",
    "b.plot.bar(rot=0)"
   ]
  },
  {
   "cell_type": "code",
   "execution_count": 59,
   "id": "3b275c6e",
   "metadata": {},
   "outputs": [
    {
     "name": "stdout",
     "output_type": "stream",
     "text": [
      "Sanjit\n"
     ]
    },
    {
     "data": {
      "text/html": [
       "<div>\n",
       "<style scoped>\n",
       "    .dataframe tbody tr th:only-of-type {\n",
       "        vertical-align: middle;\n",
       "    }\n",
       "\n",
       "    .dataframe tbody tr th {\n",
       "        vertical-align: top;\n",
       "    }\n",
       "\n",
       "    .dataframe thead th {\n",
       "        text-align: right;\n",
       "    }\n",
       "</style>\n",
       "<table border=\"1\" class=\"dataframe\">\n",
       "  <thead>\n",
       "    <tr style=\"text-align: right;\">\n",
       "      <th></th>\n",
       "      <th>할인율</th>\n",
       "    </tr>\n",
       "    <tr>\n",
       "      <th>범주</th>\n",
       "      <th></th>\n",
       "    </tr>\n",
       "  </thead>\n",
       "  <tbody>\n",
       "    <tr>\n",
       "      <th>가구</th>\n",
       "      <td>0.247216</td>\n",
       "    </tr>\n",
       "    <tr>\n",
       "      <th>기술</th>\n",
       "      <td>0.234305</td>\n",
       "    </tr>\n",
       "    <tr>\n",
       "      <th>사무용품</th>\n",
       "      <td>0.295931</td>\n",
       "    </tr>\n",
       "  </tbody>\n",
       "</table>\n",
       "</div>"
      ],
      "text/plain": [
       "           할인율\n",
       "범주            \n",
       "가구    0.247216\n",
       "기술    0.234305\n",
       "사무용품  0.295931"
      ]
     },
     "metadata": {},
     "output_type": "display_data"
    },
    {
     "data": {
      "image/png": "[encoded data removed]",
      "text/plain": [
       "<Figure size 432x288 with 1 Axes>"
      ]
     },
     "metadata": {
      "needs_background": "light"
     },
     "output_type": "display_data"
    },
    {
     "name": "stdout",
     "output_type": "stream",
     "text": [
      "Alex\n"
     ]
    },
    {
     "data": {
      "text/html": [
       "<div>\n",
       "<style scoped>\n",
       "    .dataframe tbody tr th:only-of-type {\n",
       "        vertical-align: middle;\n",
       "    }\n",
       "\n",
       "    .dataframe tbody tr th {\n",
       "        vertical-align: top;\n",
       "    }\n",
       "\n",
       "    .dataframe thead th {\n",
       "        text-align: right;\n",
       "    }\n",
       "</style>\n",
       "<table border=\"1\" class=\"dataframe\">\n",
       "  <thead>\n",
       "    <tr style=\"text-align: right;\">\n",
       "      <th></th>\n",
       "      <th>할인율</th>\n",
       "    </tr>\n",
       "    <tr>\n",
       "      <th>범주</th>\n",
       "      <th></th>\n",
       "    </tr>\n",
       "  </thead>\n",
       "  <tbody>\n",
       "    <tr>\n",
       "      <th>가구</th>\n",
       "      <td>0.050575</td>\n",
       "    </tr>\n",
       "    <tr>\n",
       "      <th>기술</th>\n",
       "      <td>0.044421</td>\n",
       "    </tr>\n",
       "    <tr>\n",
       "      <th>사무용품</th>\n",
       "      <td>0.049624</td>\n",
       "    </tr>\n",
       "  </tbody>\n",
       "</table>\n",
       "</div>"
      ],
      "text/plain": [
       "           할인율\n",
       "범주            \n",
       "가구    0.050575\n",
       "기술    0.044421\n",
       "사무용품  0.049624"
      ]
     },
     "metadata": {},
     "output_type": "display_data"
    },
    {
     "data": {
      "text/plain": [
       "<AxesSubplot:xlabel='범주'>"
      ]
     },
     "execution_count": 59,
     "metadata": {},
     "output_type": "execute_result"
    },
    {
     "data": {
      "image/png": "[encoded data removed]",
      "text/plain": [
       "<Figure size 432x288 with 1 Axes>"
      ]
     },
     "metadata": {
      "needs_background": "light"
     },
     "output_type": "display_data"
    }
   ],
   "source": [
    "print('Sanjit')\n",
    "a = pd.DataFrame(Sanjit_Engle.groupby(\"범주\")[\"할인율\"].mean()) # 동남아시아\n",
    "display(a)\n",
    "a.plot.bar(rot=0)\n",
    "plt.show()\n",
    "print('Alex')\n",
    "b = pd.DataFrame(Alex_Avila.groupby(\"범주\")[\"할인율\"].mean()) # 북아시아\n",
    "display(b)\n",
    "b.plot.bar(rot=0)"
   ]
  },
  {
   "cell_type": "markdown",
   "id": "f35d46cc",
   "metadata": {},
   "source": [
    "---\n",
    "---"
   ]
  },
  {
   "cell_type": "code",
   "execution_count": 60,
   "id": "8d609dbe",
   "metadata": {},
   "outputs": [],
   "source": [
    "temp_13 = Sanjit_Engle['제품 이름'].values\n",
    "temp_14 = Alex_Avila['제품 이름'].values\n",
    "temp_15 = Maribeth_Dona['제품 이름'].values"
   ]
  },
  {
   "cell_type": "code",
   "execution_count": 61,
   "id": "2767cd3c",
   "metadata": {
    "scrolled": true
   },
   "outputs": [
    {
     "name": "stdout",
     "output_type": "stream",
     "text": [
      "2227\n"
     ]
    },
    {
     "data": {
      "text/plain": [
       "900"
      ]
     },
     "execution_count": 61,
     "metadata": {},
     "output_type": "execute_result"
    }
   ],
   "source": [
    "sum = 0\n",
    "temp_16 = []\n",
    "for i in range(len(temp_13)):\n",
    "    if temp_13[i] in temp_14:\n",
    "        sum+=1\n",
    "    else:\n",
    "        temp_16.append(temp_13[i])\n",
    "\n",
    "print(sum)\n",
    "len(temp_16)"
   ]
  },
  {
   "cell_type": "code",
   "execution_count": 62,
   "id": "c8d755bc",
   "metadata": {},
   "outputs": [
    {
     "name": "stdout",
     "output_type": "stream",
     "text": [
      "519\n"
     ]
    },
    {
     "data": {
      "text/plain": [
       "381"
      ]
     },
     "execution_count": 62,
     "metadata": {},
     "output_type": "execute_result"
    }
   ],
   "source": [
    "sum = 0\n",
    "temp_17 = []\n",
    "for i in range(len(temp_16)):\n",
    "    if temp_16[i] in temp_15:\n",
    "        sum+=1\n",
    "    else:\n",
    "        temp_17.append(temp_16[i])\n",
    "\n",
    "print(sum)\n",
    "len(temp_17)"
   ]
  },
  {
   "cell_type": "markdown",
   "id": "62d2007c",
   "metadata": {},
   "source": [
    "381개 제품 빼고는 해당 제품을 얼마에 어떻게 팔았는지 확인 가능함"
   ]
  },
  {
   "cell_type": "markdown",
   "id": "d8e45586",
   "metadata": {},
   "source": [
    "---"
   ]
  },
  {
   "cell_type": "markdown",
   "id": "13063d3b",
   "metadata": {},
   "source": [
    "# 세그먼트, 제품 가격(등급), 할인율의 관계 집중적으로 분석하기\n",
    "- Sanjit\n",
    "- Alex   \n",
    "순서임."
   ]
  },
  {
   "cell_type": "code",
   "execution_count": 63,
   "id": "e0b146e3",
   "metadata": {},
   "outputs": [],
   "source": [
    "temp_11 = Sanjit_Engle.copy()\n",
    "temp_12 = Alex_Avila.copy()\n",
    "\n",
    "temp_11['평균 판매 수량'] = temp_11['수량']\n",
    "temp_12['평균 판매 수량'] = temp_12['수량']"
   ]
  },
  {
   "cell_type": "code",
   "execution_count": 64,
   "id": "58f5b024",
   "metadata": {},
   "outputs": [
    {
     "data": {
      "text/html": [
       "<div>\n",
       "<style scoped>\n",
       "    .dataframe tbody tr th:only-of-type {\n",
       "        vertical-align: middle;\n",
       "    }\n",
       "\n",
       "    .dataframe tbody tr th {\n",
       "        vertical-align: top;\n",
       "    }\n",
       "\n",
       "    .dataframe thead th {\n",
       "        text-align: right;\n",
       "    }\n",
       "</style>\n",
       "<table border=\"1\" class=\"dataframe\">\n",
       "  <thead>\n",
       "    <tr style=\"text-align: right;\">\n",
       "      <th></th>\n",
       "      <th></th>\n",
       "      <th>단가</th>\n",
       "      <th>수량</th>\n",
       "      <th>평균 판매 수량</th>\n",
       "      <th>할인율</th>\n",
       "      <th>수익</th>\n",
       "    </tr>\n",
       "    <tr>\n",
       "      <th>세그먼트</th>\n",
       "      <th>제품 가격(등급)</th>\n",
       "      <th></th>\n",
       "      <th></th>\n",
       "      <th></th>\n",
       "      <th></th>\n",
       "      <th></th>\n",
       "    </tr>\n",
       "  </thead>\n",
       "  <tbody>\n",
       "    <tr>\n",
       "      <th rowspan=\"3\" valign=\"top\">기업</th>\n",
       "      <th>고가</th>\n",
       "      <td>190.929172</td>\n",
       "      <td>810</td>\n",
       "      <td>3.820755</td>\n",
       "      <td>0.244340</td>\n",
       "      <td>-5.663015</td>\n",
       "    </tr>\n",
       "    <tr>\n",
       "      <th>정상가</th>\n",
       "      <td>37.038922</td>\n",
       "      <td>1717</td>\n",
       "      <td>3.653191</td>\n",
       "      <td>0.337426</td>\n",
       "      <td>-7.392408</td>\n",
       "    </tr>\n",
       "    <tr>\n",
       "      <th>최고가</th>\n",
       "      <td>1356.416454</td>\n",
       "      <td>823</td>\n",
       "      <td>3.625551</td>\n",
       "      <td>0.198150</td>\n",
       "      <td>36.925677</td>\n",
       "    </tr>\n",
       "    <tr>\n",
       "      <th rowspan=\"3\" valign=\"top\">일반 소비자</th>\n",
       "      <th>고가</th>\n",
       "      <td>193.027481</td>\n",
       "      <td>1632</td>\n",
       "      <td>3.849057</td>\n",
       "      <td>0.234599</td>\n",
       "      <td>-1.381545</td>\n",
       "    </tr>\n",
       "    <tr>\n",
       "      <th>정상가</th>\n",
       "      <td>38.251840</td>\n",
       "      <td>3159</td>\n",
       "      <td>3.900000</td>\n",
       "      <td>0.314025</td>\n",
       "      <td>-6.375419</td>\n",
       "    </tr>\n",
       "    <tr>\n",
       "      <th>최고가</th>\n",
       "      <td>1324.235649</td>\n",
       "      <td>1474</td>\n",
       "      <td>3.560386</td>\n",
       "      <td>0.197899</td>\n",
       "      <td>38.690966</td>\n",
       "    </tr>\n",
       "    <tr>\n",
       "      <th rowspan=\"3\" valign=\"top\">홈 오피스</th>\n",
       "      <th>고가</th>\n",
       "      <td>201.031829</td>\n",
       "      <td>568</td>\n",
       "      <td>3.863946</td>\n",
       "      <td>0.228776</td>\n",
       "      <td>11.084610</td>\n",
       "    </tr>\n",
       "    <tr>\n",
       "      <th>정상가</th>\n",
       "      <td>37.624966</td>\n",
       "      <td>1119</td>\n",
       "      <td>3.968085</td>\n",
       "      <td>0.336241</td>\n",
       "      <td>-7.056686</td>\n",
       "    </tr>\n",
       "    <tr>\n",
       "      <th>최고가</th>\n",
       "      <td>1207.847074</td>\n",
       "      <td>516</td>\n",
       "      <td>3.659574</td>\n",
       "      <td>0.220922</td>\n",
       "      <td>30.291089</td>\n",
       "    </tr>\n",
       "  </tbody>\n",
       "</table>\n",
       "</div>"
      ],
      "text/plain": [
       "                           단가    수량  평균 판매 수량       할인율         수익\n",
       "세그먼트   제품 가격(등급)                                                  \n",
       "기업     고가          190.929172   810  3.820755  0.244340  -5.663015\n",
       "       정상가          37.038922  1717  3.653191  0.337426  -7.392408\n",
       "       최고가        1356.416454   823  3.625551  0.198150  36.925677\n",
       "일반 소비자 고가          193.027481  1632  3.849057  0.234599  -1.381545\n",
       "       정상가          38.251840  3159  3.900000  0.314025  -6.375419\n",
       "       최고가        1324.235649  1474  3.560386  0.197899  38.690966\n",
       "홈 오피스  고가          201.031829   568  3.863946  0.228776  11.084610\n",
       "       정상가          37.624966  1119  3.968085  0.336241  -7.056686\n",
       "       최고가        1207.847074   516  3.659574  0.220922  30.291089"
      ]
     },
     "metadata": {},
     "output_type": "display_data"
    },
    {
     "data": {
      "text/html": [
       "<div>\n",
       "<style scoped>\n",
       "    .dataframe tbody tr th:only-of-type {\n",
       "        vertical-align: middle;\n",
       "    }\n",
       "\n",
       "    .dataframe tbody tr th {\n",
       "        vertical-align: top;\n",
       "    }\n",
       "\n",
       "    .dataframe thead th {\n",
       "        text-align: right;\n",
       "    }\n",
       "</style>\n",
       "<table border=\"1\" class=\"dataframe\">\n",
       "  <thead>\n",
       "    <tr style=\"text-align: right;\">\n",
       "      <th></th>\n",
       "      <th></th>\n",
       "      <th>단가</th>\n",
       "      <th>수량</th>\n",
       "      <th>평균 판매 수량</th>\n",
       "      <th>할인율</th>\n",
       "      <th>수익</th>\n",
       "    </tr>\n",
       "    <tr>\n",
       "      <th>세그먼트</th>\n",
       "      <th>제품 가격(등급)</th>\n",
       "      <th></th>\n",
       "      <th></th>\n",
       "      <th></th>\n",
       "      <th></th>\n",
       "      <th></th>\n",
       "    </tr>\n",
       "  </thead>\n",
       "  <tbody>\n",
       "    <tr>\n",
       "      <th rowspan=\"3\" valign=\"top\">기업</th>\n",
       "      <th>고가</th>\n",
       "      <td>78.726944</td>\n",
       "      <td>737</td>\n",
       "      <td>3.899471</td>\n",
       "      <td>0.033333</td>\n",
       "      <td>64.922635</td>\n",
       "    </tr>\n",
       "    <tr>\n",
       "      <th>정상가</th>\n",
       "      <td>22.331770</td>\n",
       "      <td>1277</td>\n",
       "      <td>3.766962</td>\n",
       "      <td>0.035398</td>\n",
       "      <td>19.088850</td>\n",
       "    </tr>\n",
       "    <tr>\n",
       "      <th>최고가</th>\n",
       "      <td>349.067278</td>\n",
       "      <td>687</td>\n",
       "      <td>3.816667</td>\n",
       "      <td>0.047778</td>\n",
       "      <td>172.634600</td>\n",
       "    </tr>\n",
       "    <tr>\n",
       "      <th rowspan=\"3\" valign=\"top\">일반 소비자</th>\n",
       "      <th>고가</th>\n",
       "      <td>79.356281</td>\n",
       "      <td>1025</td>\n",
       "      <td>3.621908</td>\n",
       "      <td>0.045936</td>\n",
       "      <td>58.785519</td>\n",
       "    </tr>\n",
       "    <tr>\n",
       "      <th>정상가</th>\n",
       "      <td>21.771069</td>\n",
       "      <td>2318</td>\n",
       "      <td>3.812500</td>\n",
       "      <td>0.046875</td>\n",
       "      <td>17.351817</td>\n",
       "    </tr>\n",
       "    <tr>\n",
       "      <th>최고가</th>\n",
       "      <td>344.910253</td>\n",
       "      <td>1077</td>\n",
       "      <td>3.888087</td>\n",
       "      <td>0.061372</td>\n",
       "      <td>194.890917</td>\n",
       "    </tr>\n",
       "    <tr>\n",
       "      <th rowspan=\"3\" valign=\"top\">홈 오피스</th>\n",
       "      <th>고가</th>\n",
       "      <td>83.667886</td>\n",
       "      <td>415</td>\n",
       "      <td>3.772727</td>\n",
       "      <td>0.069091</td>\n",
       "      <td>56.439873</td>\n",
       "    </tr>\n",
       "    <tr>\n",
       "      <th>정상가</th>\n",
       "      <td>23.191622</td>\n",
       "      <td>833</td>\n",
       "      <td>3.752252</td>\n",
       "      <td>0.047297</td>\n",
       "      <td>18.973514</td>\n",
       "    </tr>\n",
       "    <tr>\n",
       "      <th>최고가</th>\n",
       "      <td>369.993828</td>\n",
       "      <td>476</td>\n",
       "      <td>3.718750</td>\n",
       "      <td>0.081250</td>\n",
       "      <td>188.754516</td>\n",
       "    </tr>\n",
       "  </tbody>\n",
       "</table>\n",
       "</div>"
      ],
      "text/plain": [
       "                          단가    수량  평균 판매 수량       할인율          수익\n",
       "세그먼트   제품 가격(등급)                                                  \n",
       "기업     고가          78.726944   737  3.899471  0.033333   64.922635\n",
       "       정상가         22.331770  1277  3.766962  0.035398   19.088850\n",
       "       최고가        349.067278   687  3.816667  0.047778  172.634600\n",
       "일반 소비자 고가          79.356281  1025  3.621908  0.045936   58.785519\n",
       "       정상가         21.771069  2318  3.812500  0.046875   17.351817\n",
       "       최고가        344.910253  1077  3.888087  0.061372  194.890917\n",
       "홈 오피스  고가          83.667886   415  3.772727  0.069091   56.439873\n",
       "       정상가         23.191622   833  3.752252  0.047297   18.973514\n",
       "       최고가        369.993828   476  3.718750  0.081250  188.754516"
      ]
     },
     "metadata": {},
     "output_type": "display_data"
    }
   ],
   "source": [
    "display(temp_11.groupby([\"세그먼트\", '제품 가격(등급)']).agg({'단가':'mean', '수량':'sum', '평균 판매 수량' : 'mean', '할인율':'mean', '수익':'mean'}))\n",
    "display(temp_12.groupby([\"세그먼트\", '제품 가격(등급)']).agg({'단가':'mean', '수량':'sum', '평균 판매 수량' : 'mean', '할인율':'mean', '수익':'mean'}))"
   ]
  },
  {
   "cell_type": "code",
   "execution_count": 65,
   "id": "e078fe3f",
   "metadata": {
    "scrolled": false
   },
   "outputs": [
    {
     "data": {
      "text/html": [
       "<div>\n",
       "<style scoped>\n",
       "    .dataframe tbody tr th:only-of-type {\n",
       "        vertical-align: middle;\n",
       "    }\n",
       "\n",
       "    .dataframe tbody tr th {\n",
       "        vertical-align: top;\n",
       "    }\n",
       "\n",
       "    .dataframe thead th {\n",
       "        text-align: right;\n",
       "    }\n",
       "</style>\n",
       "<table border=\"1\" class=\"dataframe\">\n",
       "  <thead>\n",
       "    <tr style=\"text-align: right;\">\n",
       "      <th></th>\n",
       "      <th></th>\n",
       "      <th>단가</th>\n",
       "      <th>수량</th>\n",
       "      <th>평균 판매 수량</th>\n",
       "      <th>할인율</th>\n",
       "      <th>수익</th>\n",
       "    </tr>\n",
       "    <tr>\n",
       "      <th>제품 가격(등급)</th>\n",
       "      <th>세그먼트</th>\n",
       "      <th></th>\n",
       "      <th></th>\n",
       "      <th></th>\n",
       "      <th></th>\n",
       "      <th></th>\n",
       "    </tr>\n",
       "  </thead>\n",
       "  <tbody>\n",
       "    <tr>\n",
       "      <th rowspan=\"3\" valign=\"top\">고가</th>\n",
       "      <th>기업</th>\n",
       "      <td>190.929172</td>\n",
       "      <td>810</td>\n",
       "      <td>3.820755</td>\n",
       "      <td>0.244340</td>\n",
       "      <td>-5.663015</td>\n",
       "    </tr>\n",
       "    <tr>\n",
       "      <th>일반 소비자</th>\n",
       "      <td>193.027481</td>\n",
       "      <td>1632</td>\n",
       "      <td>3.849057</td>\n",
       "      <td>0.234599</td>\n",
       "      <td>-1.381545</td>\n",
       "    </tr>\n",
       "    <tr>\n",
       "      <th>홈 오피스</th>\n",
       "      <td>201.031829</td>\n",
       "      <td>568</td>\n",
       "      <td>3.863946</td>\n",
       "      <td>0.228776</td>\n",
       "      <td>11.084610</td>\n",
       "    </tr>\n",
       "    <tr>\n",
       "      <th rowspan=\"3\" valign=\"top\">정상가</th>\n",
       "      <th>기업</th>\n",
       "      <td>37.038922</td>\n",
       "      <td>1717</td>\n",
       "      <td>3.653191</td>\n",
       "      <td>0.337426</td>\n",
       "      <td>-7.392408</td>\n",
       "    </tr>\n",
       "    <tr>\n",
       "      <th>일반 소비자</th>\n",
       "      <td>38.251840</td>\n",
       "      <td>3159</td>\n",
       "      <td>3.900000</td>\n",
       "      <td>0.314025</td>\n",
       "      <td>-6.375419</td>\n",
       "    </tr>\n",
       "    <tr>\n",
       "      <th>홈 오피스</th>\n",
       "      <td>37.624966</td>\n",
       "      <td>1119</td>\n",
       "      <td>3.968085</td>\n",
       "      <td>0.336241</td>\n",
       "      <td>-7.056686</td>\n",
       "    </tr>\n",
       "    <tr>\n",
       "      <th rowspan=\"3\" valign=\"top\">최고가</th>\n",
       "      <th>기업</th>\n",
       "      <td>1356.416454</td>\n",
       "      <td>823</td>\n",
       "      <td>3.625551</td>\n",
       "      <td>0.198150</td>\n",
       "      <td>36.925677</td>\n",
       "    </tr>\n",
       "    <tr>\n",
       "      <th>일반 소비자</th>\n",
       "      <td>1324.235649</td>\n",
       "      <td>1474</td>\n",
       "      <td>3.560386</td>\n",
       "      <td>0.197899</td>\n",
       "      <td>38.690966</td>\n",
       "    </tr>\n",
       "    <tr>\n",
       "      <th>홈 오피스</th>\n",
       "      <td>1207.847074</td>\n",
       "      <td>516</td>\n",
       "      <td>3.659574</td>\n",
       "      <td>0.220922</td>\n",
       "      <td>30.291089</td>\n",
       "    </tr>\n",
       "  </tbody>\n",
       "</table>\n",
       "</div>"
      ],
      "text/plain": [
       "                           단가    수량  평균 판매 수량       할인율         수익\n",
       "제품 가격(등급) 세그먼트                                                    \n",
       "고가        기업       190.929172   810  3.820755  0.244340  -5.663015\n",
       "          일반 소비자   193.027481  1632  3.849057  0.234599  -1.381545\n",
       "          홈 오피스    201.031829   568  3.863946  0.228776  11.084610\n",
       "정상가       기업        37.038922  1717  3.653191  0.337426  -7.392408\n",
       "          일반 소비자    38.251840  3159  3.900000  0.314025  -6.375419\n",
       "          홈 오피스     37.624966  1119  3.968085  0.336241  -7.056686\n",
       "최고가       기업      1356.416454   823  3.625551  0.198150  36.925677\n",
       "          일반 소비자  1324.235649  1474  3.560386  0.197899  38.690966\n",
       "          홈 오피스   1207.847074   516  3.659574  0.220922  30.291089"
      ]
     },
     "metadata": {},
     "output_type": "display_data"
    },
    {
     "data": {
      "text/html": [
       "<div>\n",
       "<style scoped>\n",
       "    .dataframe tbody tr th:only-of-type {\n",
       "        vertical-align: middle;\n",
       "    }\n",
       "\n",
       "    .dataframe tbody tr th {\n",
       "        vertical-align: top;\n",
       "    }\n",
       "\n",
       "    .dataframe thead th {\n",
       "        text-align: right;\n",
       "    }\n",
       "</style>\n",
       "<table border=\"1\" class=\"dataframe\">\n",
       "  <thead>\n",
       "    <tr style=\"text-align: right;\">\n",
       "      <th></th>\n",
       "      <th></th>\n",
       "      <th>단가</th>\n",
       "      <th>수량</th>\n",
       "      <th>평균 판매 수량</th>\n",
       "      <th>할인율</th>\n",
       "      <th>수익</th>\n",
       "    </tr>\n",
       "    <tr>\n",
       "      <th>제품 가격(등급)</th>\n",
       "      <th>세그먼트</th>\n",
       "      <th></th>\n",
       "      <th></th>\n",
       "      <th></th>\n",
       "      <th></th>\n",
       "      <th></th>\n",
       "    </tr>\n",
       "  </thead>\n",
       "  <tbody>\n",
       "    <tr>\n",
       "      <th rowspan=\"3\" valign=\"top\">고가</th>\n",
       "      <th>기업</th>\n",
       "      <td>78.726944</td>\n",
       "      <td>737</td>\n",
       "      <td>3.899471</td>\n",
       "      <td>0.033333</td>\n",
       "      <td>64.922635</td>\n",
       "    </tr>\n",
       "    <tr>\n",
       "      <th>일반 소비자</th>\n",
       "      <td>79.356281</td>\n",
       "      <td>1025</td>\n",
       "      <td>3.621908</td>\n",
       "      <td>0.045936</td>\n",
       "      <td>58.785519</td>\n",
       "    </tr>\n",
       "    <tr>\n",
       "      <th>홈 오피스</th>\n",
       "      <td>83.667886</td>\n",
       "      <td>415</td>\n",
       "      <td>3.772727</td>\n",
       "      <td>0.069091</td>\n",
       "      <td>56.439873</td>\n",
       "    </tr>\n",
       "    <tr>\n",
       "      <th rowspan=\"3\" valign=\"top\">정상가</th>\n",
       "      <th>기업</th>\n",
       "      <td>22.331770</td>\n",
       "      <td>1277</td>\n",
       "      <td>3.766962</td>\n",
       "      <td>0.035398</td>\n",
       "      <td>19.088850</td>\n",
       "    </tr>\n",
       "    <tr>\n",
       "      <th>일반 소비자</th>\n",
       "      <td>21.771069</td>\n",
       "      <td>2318</td>\n",
       "      <td>3.812500</td>\n",
       "      <td>0.046875</td>\n",
       "      <td>17.351817</td>\n",
       "    </tr>\n",
       "    <tr>\n",
       "      <th>홈 오피스</th>\n",
       "      <td>23.191622</td>\n",
       "      <td>833</td>\n",
       "      <td>3.752252</td>\n",
       "      <td>0.047297</td>\n",
       "      <td>18.973514</td>\n",
       "    </tr>\n",
       "    <tr>\n",
       "      <th rowspan=\"3\" valign=\"top\">최고가</th>\n",
       "      <th>기업</th>\n",
       "      <td>349.067278</td>\n",
       "      <td>687</td>\n",
       "      <td>3.816667</td>\n",
       "      <td>0.047778</td>\n",
       "      <td>172.634600</td>\n",
       "    </tr>\n",
       "    <tr>\n",
       "      <th>일반 소비자</th>\n",
       "      <td>344.910253</td>\n",
       "      <td>1077</td>\n",
       "      <td>3.888087</td>\n",
       "      <td>0.061372</td>\n",
       "      <td>194.890917</td>\n",
       "    </tr>\n",
       "    <tr>\n",
       "      <th>홈 오피스</th>\n",
       "      <td>369.993828</td>\n",
       "      <td>476</td>\n",
       "      <td>3.718750</td>\n",
       "      <td>0.081250</td>\n",
       "      <td>188.754516</td>\n",
       "    </tr>\n",
       "  </tbody>\n",
       "</table>\n",
       "</div>"
      ],
      "text/plain": [
       "                          단가    수량  평균 판매 수량       할인율          수익\n",
       "제품 가격(등급) 세그먼트                                                    \n",
       "고가        기업       78.726944   737  3.899471  0.033333   64.922635\n",
       "          일반 소비자   79.356281  1025  3.621908  0.045936   58.785519\n",
       "          홈 오피스    83.667886   415  3.772727  0.069091   56.439873\n",
       "정상가       기업       22.331770  1277  3.766962  0.035398   19.088850\n",
       "          일반 소비자   21.771069  2318  3.812500  0.046875   17.351817\n",
       "          홈 오피스    23.191622   833  3.752252  0.047297   18.973514\n",
       "최고가       기업      349.067278   687  3.816667  0.047778  172.634600\n",
       "          일반 소비자  344.910253  1077  3.888087  0.061372  194.890917\n",
       "          홈 오피스   369.993828   476  3.718750  0.081250  188.754516"
      ]
     },
     "metadata": {},
     "output_type": "display_data"
    }
   ],
   "source": [
    "display(temp_11.groupby([\"제품 가격(등급)\", '세그먼트']).agg({'단가':'mean', '수량':'sum', '평균 판매 수량' : 'mean', '할인율':'mean', '수익':'mean'}))\n",
    "display(temp_12.groupby([\"제품 가격(등급)\", '세그먼트']).agg({'단가':'mean', '수량':'sum', '평균 판매 수량' : 'mean', '할인율':'mean', '수익':'mean'}))"
   ]
  },
  {
   "cell_type": "markdown",
   "id": "ed2d44d8",
   "metadata": {},
   "source": [
    "---\n",
    "---"
   ]
  },
  {
   "cell_type": "code",
   "execution_count": 69,
   "id": "78cedbdf",
   "metadata": {},
   "outputs": [],
   "source": [
    "temp = pd.DataFrame(Sanjit_Engle.groupby('제품 이름')['반품'].sum() / Sanjit_Engle.groupby('제품 이름')['주문 ID'].count())\n",
    "temp = temp.reset_index()\n",
    "temp.rename(columns ={0:'반품율'}, inplace=True)\n",
    "Sanjit_Engle = pd.merge(temp, Sanjit_Engle, on = [\"제품 이름\"])"
   ]
  },
  {
   "cell_type": "code",
   "execution_count": 72,
   "id": "abb67a6b",
   "metadata": {},
   "outputs": [],
   "source": [
    "temp = pd.DataFrame(Alex_Avila.groupby('제품 이름')['반품'].sum() / Alex_Avila.groupby('제품 이름')['주문 ID'].count())\n",
    "temp = temp.reset_index()\n",
    "temp.rename(columns ={0:'반품율'}, inplace=True)\n",
    "Alex_Avila = pd.merge(temp, Alex_Avila, on = [\"제품 이름\"])"
   ]
  },
  {
   "cell_type": "code",
   "execution_count": 76,
   "id": "d0981db3",
   "metadata": {},
   "outputs": [],
   "source": [
    "Sanjit_Engle.to_excel('Sanjit_Engle.xlsx', index=False)\n",
    "Alex_Avila.to_excel('Alex_Avila.xlsx',index=False)"
   ]
  },
  {
   "cell_type": "code",
   "execution_count": 80,
   "id": "704baa43",
   "metadata": {},
   "outputs": [],
   "source": [
    "temp = Sanjit_Engle[['제품 이름', '반품율']]"
   ]
  },
  {
   "cell_type": "code",
   "execution_count": 111,
   "id": "c1577445",
   "metadata": {},
   "outputs": [],
   "source": [
    "temp = pd.read_excel('temp.xlsx')"
   ]
  },
  {
   "cell_type": "code",
   "execution_count": 112,
   "id": "61665ca7",
   "metadata": {},
   "outputs": [
    {
     "data": {
      "text/html": [
       "<div>\n",
       "<style scoped>\n",
       "    .dataframe tbody tr th:only-of-type {\n",
       "        vertical-align: middle;\n",
       "    }\n",
       "\n",
       "    .dataframe tbody tr th {\n",
       "        vertical-align: top;\n",
       "    }\n",
       "\n",
       "    .dataframe thead th {\n",
       "        text-align: right;\n",
       "    }\n",
       "</style>\n",
       "<table border=\"1\" class=\"dataframe\">\n",
       "  <thead>\n",
       "    <tr style=\"text-align: right;\">\n",
       "      <th></th>\n",
       "      <th>제품 이름</th>\n",
       "      <th>주 구매 고객</th>\n",
       "      <th>반품율</th>\n",
       "      <th>평균 수익</th>\n",
       "      <th>할인율</th>\n",
       "    </tr>\n",
       "  </thead>\n",
       "  <tbody>\n",
       "    <tr>\n",
       "      <th>0</th>\n",
       "      <td>Belkin Mouse, Programmable</td>\n",
       "      <td>Silver</td>\n",
       "      <td>0.00</td>\n",
       "      <td>12.5010</td>\n",
       "      <td>0.15</td>\n",
       "    </tr>\n",
       "    <tr>\n",
       "      <th>1</th>\n",
       "      <td>Belkin Mouse, Programmable</td>\n",
       "      <td>Silver</td>\n",
       "      <td>0.00</td>\n",
       "      <td>-8.3340</td>\n",
       "      <td>0.15</td>\n",
       "    </tr>\n",
       "    <tr>\n",
       "      <th>2</th>\n",
       "      <td>Belkin Mouse, USB</td>\n",
       "      <td>Platinum</td>\n",
       "      <td>0.00</td>\n",
       "      <td>-10.1508</td>\n",
       "      <td>0.17</td>\n",
       "    </tr>\n",
       "    <tr>\n",
       "      <th>3</th>\n",
       "      <td>Belkin Mouse, USB</td>\n",
       "      <td>Gold</td>\n",
       "      <td>0.00</td>\n",
       "      <td>-39.9870</td>\n",
       "      <td>0.15</td>\n",
       "    </tr>\n",
       "    <tr>\n",
       "      <th>4</th>\n",
       "      <td>Belkin Mouse, USB</td>\n",
       "      <td>Platinum</td>\n",
       "      <td>0.00</td>\n",
       "      <td>-25.3770</td>\n",
       "      <td>0.00</td>\n",
       "    </tr>\n",
       "    <tr>\n",
       "      <th>5</th>\n",
       "      <td>Belkin Numeric Keypad, Bluetooth</td>\n",
       "      <td>Platinum</td>\n",
       "      <td>0.00</td>\n",
       "      <td>-1.8612</td>\n",
       "      <td>0.00</td>\n",
       "    </tr>\n",
       "    <tr>\n",
       "      <th>6</th>\n",
       "      <td>Cardinal Binding Machine, Recycled</td>\n",
       "      <td>Gold</td>\n",
       "      <td>0.35</td>\n",
       "      <td>-1.8612</td>\n",
       "      <td>0.15</td>\n",
       "    </tr>\n",
       "    <tr>\n",
       "      <th>7</th>\n",
       "      <td>Cardinal Binding Machine, Recycled</td>\n",
       "      <td>Curning</td>\n",
       "      <td>0.00</td>\n",
       "      <td>13.3536</td>\n",
       "      <td>0.00</td>\n",
       "    </tr>\n",
       "    <tr>\n",
       "      <th>8</th>\n",
       "      <td>Cardinal Binding Machine, Recycled</td>\n",
       "      <td>Churn Risk</td>\n",
       "      <td>0.00</td>\n",
       "      <td>19.7400</td>\n",
       "      <td>0.15</td>\n",
       "    </tr>\n",
       "    <tr>\n",
       "      <th>9</th>\n",
       "      <td>Cardinal Hole Reinforcements, Clear</td>\n",
       "      <td>New</td>\n",
       "      <td>0.00</td>\n",
       "      <td>-10.8630</td>\n",
       "      <td>0.15</td>\n",
       "    </tr>\n",
       "    <tr>\n",
       "      <th>10</th>\n",
       "      <td>Cardinal Hole Reinforcements, Clear</td>\n",
       "      <td>High-Spend</td>\n",
       "      <td>0.00</td>\n",
       "      <td>13.0356</td>\n",
       "      <td>0.00</td>\n",
       "    </tr>\n",
       "    <tr>\n",
       "      <th>11</th>\n",
       "      <td>Cardinal Hole Reinforcements, Clear</td>\n",
       "      <td>New</td>\n",
       "      <td>0.25</td>\n",
       "      <td>5.1030</td>\n",
       "      <td>0.17</td>\n",
       "    </tr>\n",
       "    <tr>\n",
       "      <th>12</th>\n",
       "      <td>Cardinal Hole Reinforcements, Durable</td>\n",
       "      <td>Churn Risk</td>\n",
       "      <td>0.25</td>\n",
       "      <td>14.4870</td>\n",
       "      <td>0.15</td>\n",
       "    </tr>\n",
       "    <tr>\n",
       "      <th>13</th>\n",
       "      <td>Cardinal Hole Reinforcements, Recycled</td>\n",
       "      <td>Churn Risk</td>\n",
       "      <td>0.25</td>\n",
       "      <td>15.8040</td>\n",
       "      <td>0.15</td>\n",
       "    </tr>\n",
       "    <tr>\n",
       "      <th>14</th>\n",
       "      <td>Cardinal Hole Reinforcements, Recycled</td>\n",
       "      <td>Silver</td>\n",
       "      <td>0.25</td>\n",
       "      <td>-0.0540</td>\n",
       "      <td>0.15</td>\n",
       "    </tr>\n",
       "    <tr>\n",
       "      <th>15</th>\n",
       "      <td>Acco Binder Covers, Economy</td>\n",
       "      <td>Silver</td>\n",
       "      <td>0.00</td>\n",
       "      <td>-0.0720</td>\n",
       "      <td>0.00</td>\n",
       "    </tr>\n",
       "    <tr>\n",
       "      <th>16</th>\n",
       "      <td>Acco Binder Covers, Economy</td>\n",
       "      <td>Platinum</td>\n",
       "      <td>0.00</td>\n",
       "      <td>-0.8532</td>\n",
       "      <td>0.00</td>\n",
       "    </tr>\n",
       "    <tr>\n",
       "      <th>17</th>\n",
       "      <td>Acco Binder Covers, Recycled</td>\n",
       "      <td>Gold</td>\n",
       "      <td>0.00</td>\n",
       "      <td>9.1920</td>\n",
       "      <td>0.00</td>\n",
       "    </tr>\n",
       "    <tr>\n",
       "      <th>18</th>\n",
       "      <td>Acco Binder Covers, Recycled</td>\n",
       "      <td>Platinum</td>\n",
       "      <td>0.00</td>\n",
       "      <td>2.2980</td>\n",
       "      <td>0.15</td>\n",
       "    </tr>\n",
       "    <tr>\n",
       "      <th>19</th>\n",
       "      <td>Acco Binder, Clear</td>\n",
       "      <td>Platinum</td>\n",
       "      <td>0.25</td>\n",
       "      <td>1.7526</td>\n",
       "      <td>0.17</td>\n",
       "    </tr>\n",
       "    <tr>\n",
       "      <th>20</th>\n",
       "      <td>Acco Binder, Clear</td>\n",
       "      <td>Gold</td>\n",
       "      <td>0.25</td>\n",
       "      <td>1.7526</td>\n",
       "      <td>0.17</td>\n",
       "    </tr>\n",
       "  </tbody>\n",
       "</table>\n",
       "</div>"
      ],
      "text/plain": [
       "                                     제품 이름     주 구매 고객   반품율    평균 수익   할인율\n",
       "0               Belkin Mouse, Programmable      Silver  0.00  12.5010  0.15\n",
       "1               Belkin Mouse, Programmable      Silver  0.00  -8.3340  0.15\n",
       "2                        Belkin Mouse, USB    Platinum  0.00 -10.1508  0.17\n",
       "3                        Belkin Mouse, USB        Gold  0.00 -39.9870  0.15\n",
       "4                        Belkin Mouse, USB    Platinum  0.00 -25.3770  0.00\n",
       "5         Belkin Numeric Keypad, Bluetooth    Platinum  0.00  -1.8612  0.00\n",
       "6       Cardinal Binding Machine, Recycled        Gold  0.35  -1.8612  0.15\n",
       "7       Cardinal Binding Machine, Recycled     Curning  0.00  13.3536  0.00\n",
       "8       Cardinal Binding Machine, Recycled  Churn Risk  0.00  19.7400  0.15\n",
       "9      Cardinal Hole Reinforcements, Clear         New  0.00 -10.8630  0.15\n",
       "10     Cardinal Hole Reinforcements, Clear  High-Spend  0.00  13.0356  0.00\n",
       "11     Cardinal Hole Reinforcements, Clear         New  0.25   5.1030  0.17\n",
       "12   Cardinal Hole Reinforcements, Durable  Churn Risk  0.25  14.4870  0.15\n",
       "13  Cardinal Hole Reinforcements, Recycled  Churn Risk  0.25  15.8040  0.15\n",
       "14  Cardinal Hole Reinforcements, Recycled      Silver  0.25  -0.0540  0.15\n",
       "15             Acco Binder Covers, Economy      Silver  0.00  -0.0720  0.00\n",
       "16             Acco Binder Covers, Economy    Platinum  0.00  -0.8532  0.00\n",
       "17            Acco Binder Covers, Recycled        Gold  0.00   9.1920  0.00\n",
       "18            Acco Binder Covers, Recycled    Platinum  0.00   2.2980  0.15\n",
       "19                      Acco Binder, Clear    Platinum  0.25   1.7526  0.17\n",
       "20                      Acco Binder, Clear        Gold  0.25   1.7526  0.17"
      ]
     },
     "execution_count": 112,
     "metadata": {},
     "output_type": "execute_result"
    }
   ],
   "source": [
    "temp"
   ]
  }
 ],
 "metadata": {
  "kernelspec": {
   "display_name": "Python 3 (ipykernel)",
   "language": "python",
   "name": "python3"
  },
  "language_info": {
   "codemirror_mode": {
    "name": "ipython",
    "version": 3
   },
   "file_extension": ".py",
   "mimetype": "text/x-python",
   "name": "python",
   "nbconvert_exporter": "python",
   "pygments_lexer": "ipython3",
   "version": "3.9.12"
  }
 },
 "nbformat": 4,
 "nbformat_minor": 5
}
